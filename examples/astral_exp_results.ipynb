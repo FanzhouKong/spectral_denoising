{
 "cells": [
  {
   "cell_type": "code",
   "execution_count": 44,
   "metadata": {},
   "outputs": [
    {
     "name": "stdout",
     "output_type": "stream",
     "text": [
      "The autoreload extension is already loaded. To reload it, use:\n",
      "  %reload_ext autoreload\n"
     ]
    }
   ],
   "source": [
    "\n",
    "import pandas as pd\n",
    "import sys\n",
    "import os\n",
    "sys.path.insert(0, '..')\n",
    "\n",
    "import spectral_denoising as sd\n",
    "import matplotlib.pyplot as pyplot\n",
    "from spectral_denoising.file_io import read_df\n",
    "from spectral_denoising.spectra_plotter import *\n",
    "fig_dir = '/Users/fanzhoukong/Documents/GitHub/Libgen_data/Astral'\n",
    "%load_ext autoreload\n",
    "%autoreload 2"
   ]
  },
  {
   "cell_type": "code",
   "execution_count": 2,
   "metadata": {},
   "outputs": [
    {
     "name": "stdout",
     "output_type": "stream",
     "text": [
      "done read in df...\n",
      "done read in df...\n"
     ]
    }
   ],
   "source": [
    "exp= read_df('/Users/fanzhoukong/Documents/GitHub/Libgen_data/Astral/Exploris/alignment/pos/Exploris_alignment_cleaned.csv')\n",
    "astral= read_df('/Users/fanzhoukong/Documents/GitHub/Libgen_data/Astral/Astral/alignment/pos/Astral_algnment.csv')"
   ]
  },
  {
   "cell_type": "code",
   "execution_count": 3,
   "metadata": {},
   "outputs": [
    {
     "name": "stdout",
     "output_type": "stream",
     "text": [
      "done read in df...\n"
     ]
    }
   ],
   "source": [
    "reference_lib = read_df('/Users/fanzhoukong/Documents/GitHub/Libgen_data/curated_library/csv/pos_orbi_sorted.csv')"
   ]
  },
  {
   "cell_type": "code",
   "execution_count": 17,
   "metadata": {},
   "outputs": [
    {
     "name": "stderr",
     "output_type": "stream",
     "text": [
      "100%|██████████| 5012/5012 [08:00<00:00, 10.43it/s]\n"
     ]
    }
   ],
   "source": [
    "astral_searched_results = sd.denoising_search_batch(astral['peaks'], astral['precursor_mz'], reference_lib)\n",
    "annotation_denoised = 0\n",
    "annotation_raw = 0\n",
    "for r in astral_searched_results:\n",
    "    if len(r)>0:\n",
    "        if r['entropy_similarity'].max() > 0.75:\n",
    "            annotation_raw += 1\n",
    "        if r['denoised_similarity'].max() > 0.75:\n",
    "            annotation_denoised += 1"
   ]
  },
  {
   "cell_type": "code",
   "execution_count": 18,
   "metadata": {},
   "outputs": [
    {
     "name": "stdout",
     "output_type": "stream",
     "text": [
      "the number of annotation acheived with entropy search on astral data is 355\n",
      "the number of annotation acheived with denoising search on astral data is 523\n"
     ]
    }
   ],
   "source": [
    "print(f'the number of annotation acheived with entropy search on astral data is {annotation_raw}')\n",
    "print(f'the number of annotation acheived with denoising search on astral data is {annotation_denoised}')"
   ]
  },
  {
   "cell_type": "code",
   "execution_count": 19,
   "metadata": {},
   "outputs": [
    {
     "name": "stderr",
     "output_type": "stream",
     "text": [
      "100%|██████████| 1889/1889 [06:02<00:00,  5.21it/s]\n"
     ]
    },
    {
     "name": "stdout",
     "output_type": "stream",
     "text": [
      "the number of annotation acheived with entropy search on exploris data is 223\n",
      "the number of annotation acheived with denoising search on exploris data is 273\n"
     ]
    }
   ],
   "source": [
    "exp_searched_results = sd.denoising_search_batch(exp['peaks'], exp['precursor_mz'], reference_lib)\n",
    "annotation_denoised = 0\n",
    "annotation_raw = 0\n",
    "for r in exp_searched_results:\n",
    "    if len(r)>0:\n",
    "        if r['entropy_similarity'].max() > 0.75:\n",
    "            annotation_raw += 1\n",
    "        if r['denoised_similarity'].max() > 0.75:\n",
    "            annotation_denoised += 1\n",
    "print(f'the number of annotation acheived with entropy search on exploris data is {annotation_raw}')\n",
    "print(f'the number of annotation acheived with denoising search on exploris data is {annotation_denoised}')"
   ]
  },
  {
   "cell_type": "code",
   "execution_count": null,
   "metadata": {},
   "outputs": [
    {
     "data": {
      "text/plain": [
       "<BarContainer object of 1 artists>"
      ]
     },
     "execution_count": 26,
     "metadata": {},
     "output_type": "execute_result"
    }
   ],
   "source": []
  },
  {
   "cell_type": "code",
   "execution_count": 45,
   "metadata": {},
   "outputs": [
    {
     "data": {
      "image/png": "[encoded data removed]",
      "text/plain": [
       "<Figure size 400x300 with 1 Axes>"
      ]
     },
     "metadata": {},
     "output_type": "display_data"
    }
   ],
   "source": [
    "n_anno = [223, 273, 355, 523]\n",
    "labels = ['Entropy search - Exploris 240', 'Denoising search - Exploris 240','Entropy search - Astral', 'Denoising search - Astral']\n",
    "fig=plt.figure(figsize=(4,3))\n",
    "ax1 = fig.add_subplot()\n",
    "colors = ['#AAB6F7','#3564F7', '#CE5F5A','#CE3549']\n",
    "sns.barplot(x = labels, y = n_anno, ax = ax1, alpha = 0.6, palette = colors, )\n",
    "for i in ax1.containers:\n",
    "    ax1.bar_label(i,)\n",
    "sns.lineplot(x = labels, y = n_anno, ax = ax1, color = '#61D837',linewidth = 2)\n",
    "wrap_labels(ax1, 10)\n",
    "ax1.set_xticklabels(ax1.get_xticklabels(), rotation=0)\n",
    "ax1.set_ylim(50, 530)\n",
    "ax1.set_facecolor(\"white\")\n",
    "# plt.legend()\n",
    "plt.ylabel('# annotations', size = 12)\n",
    "# plt.xlabel('')\n",
    "fig.tight_layout()\n",
    "ax1.spines['left'].set_color('#313131')\n",
    "ax1.spines['bottom'].set_color('#313131')\n",
    "ax1.spines[['right', 'top']].set_visible(False)\n",
    "plt.savefig(os.path.join(fig_dir, 'n_annotation_astral.png'))"
   ]
  }
 ],
 "metadata": {
  "kernelspec": {
   "display_name": "new_env2",
   "language": "python",
   "name": "python3"
  },
  "language_info": {
   "codemirror_mode": {
    "name": "ipython",
    "version": 3
   },
   "file_extension": ".py",
   "mimetype": "text/x-python",
   "name": "python",
   "nbconvert_exporter": "python",
   "pygments_lexer": "ipython3",
   "version": "3.12.0"
  }
 },
 "nbformat": 4,
 "nbformat_minor": 2
}
