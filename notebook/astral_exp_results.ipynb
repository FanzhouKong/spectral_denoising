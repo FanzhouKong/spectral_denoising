{
 "cells": [
  {
   "cell_type": "code",
   "execution_count": 1,
   "metadata": {},
   "outputs": [],
   "source": [
    "\n",
    "import pandas as pd\n",
    "import sys\n",
    "import os\n",
    "sys.path.insert(0, '..')\n",
    "\n",
    "import spectral_denoising as sd\n",
    "\n",
    "from spectral_denoising.file_io import read_df\n",
    "%load_ext autoreload\n",
    "%autoreload 2"
   ]
  },
  {
   "cell_type": "code",
   "execution_count": 2,
   "metadata": {},
   "outputs": [
    {
     "name": "stdout",
     "output_type": "stream",
     "text": [
      "done read in df...\n",
      "done read in df...\n"
     ]
    }
   ],
   "source": [
    "exp= read_df('/Users/fanzhoukong/Documents/GitHub/Libgen_data/Astral/Exploris/alignment/pos/Exploris_alignment_cleaned.csv')\n",
    "astral= read_df('/Users/fanzhoukong/Documents/GitHub/Libgen_data/Astral/Astral/alignment/pos/Astral_algnment.csv')"
   ]
  },
  {
   "cell_type": "code",
   "execution_count": 3,
   "metadata": {},
   "outputs": [
    {
     "name": "stdout",
     "output_type": "stream",
     "text": [
      "done read in df...\n"
     ]
    }
   ],
   "source": [
    "reference_lib = read_df('/Users/fanzhoukong/Documents/GitHub/Libgen_data/curated_library/csv/pos_orbi_sorted.csv')"
   ]
  },
  {
   "cell_type": "code",
   "execution_count": 4,
   "metadata": {},
   "outputs": [
    {
     "name": "stderr",
     "output_type": "stream",
     "text": [
      "100%|██████████| 5012/5012 [09:22<00:00,  8.90it/s]\n"
     ]
    }
   ],
   "source": [
    "astral_searched_results = sd.denoising_search_batch(astral['peaks'], astral['precursor_mz'], reference_lib)"
   ]
  },
  {
   "cell_type": "code",
   "execution_count": 7,
   "metadata": {},
   "outputs": [
    {
     "name": "stderr",
     "output_type": "stream",
     "text": [
      "100%|██████████| 1889/1889 [06:12<00:00,  5.07it/s]\n"
     ]
    }
   ],
   "source": [
    "exp_searched_results = sd.denoising_search_batch(exp['peaks'], exp['precursor_mz'], reference_lib)"
   ]
  }
 ],
 "metadata": {
  "kernelspec": {
   "display_name": "new_env2",
   "language": "python",
   "name": "python3"
  },
  "language_info": {
   "codemirror_mode": {
    "name": "ipython",
    "version": 3
   },
   "file_extension": ".py",
   "mimetype": "text/x-python",
   "name": "python",
   "nbconvert_exporter": "python",
   "pygments_lexer": "ipython3",
   "version": "3.12.0"
  }
 },
 "nbformat": 4,
 "nbformat_minor": 2
}
