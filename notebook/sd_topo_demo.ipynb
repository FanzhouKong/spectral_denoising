{
 "cells": [
  {
   "cell_type": "code",
   "execution_count": null,
   "metadata": {},
   "outputs": [],
   "source": [
    "import os\n",
    "import re\n",
    "import numpy as np\n",
    "from rdkit import Chem\n",
    "from tqdm import tqdm\n",
    "import pandas as pd\n",
    "from rdkit.Chem import Draw\n",
    "import sys\n",
    "from spectral_denoising.file_io import *\n",
    "from spectral_denoising.spectral_denoising import *\n",
    "from spectral_denoising.spectra_plotter import *\n",
    "from spectral_denoising.chem_utils import *\n",
    "from spectral_denoising.constant import proton_mass\n",
    "from spectral_denoising.test import *\n",
    "from rdkit.Chem.Draw import IPythonConsole\n",
    "sys.path.append(os.path.join(\"..\"))\n",
    "%load_ext autoreload\n",
    "%autoreload 2"
   ]
  },
  {
   "cell_type": "code",
   "execution_count": null,
   "metadata": {},
   "outputs": [],
   "source": [
    "nist_test = read_df('/Users/fanzhoukong/Documents/GitHub/Libgen_data/curated_library/csv/nist_pos_sample.csv')"
   ]
  },
  {
   "cell_type": "code",
   "execution_count": 6,
   "metadata": {},
   "outputs": [],
   "source": [
    "instance = nist_test.iloc[1]"
   ]
  },
  {
   "cell_type": "code",
   "execution_count": null,
   "metadata": {},
   "outputs": [],
   "source": [
    "instance"
   ]
  },
  {
   "cell_type": "code",
   "execution_count": null,
   "metadata": {},
   "outputs": [],
   "source": [
    "msms = instance['spectrum']\n",
    "ms2_plot(msms)"
   ]
  },
  {
   "cell_type": "code",
   "execution_count": 307,
   "metadata": {},
   "outputs": [],
   "source": [
    "\n",
    "    # sum_values = [int(value) for key, value in formula_dict.items() if key != 'H']\n",
    "    # return (sum_values)"
   ]
  },
  {
   "cell_type": "code",
   "execution_count": null,
   "metadata": {},
   "outputs": [],
   "source": [
    "get_rarest_heavy_atom('C6H1O2')"
   ]
  },
  {
   "cell_type": "code",
   "execution_count": null,
   "metadata": {},
   "outputs": [],
   "source": [
    "count"
   ]
  },
  {
   "cell_type": "code",
   "execution_count": 235,
   "metadata": {},
   "outputs": [],
   "source": [
    "formula_array = np.array(list(dict.items()), dtype=[('key', 'U2'), ('value', 'int')])"
   ]
  },
  {
   "cell_type": "code",
   "execution_count": null,
   "metadata": {},
   "outputs": [],
   "source": [
    "np.array()"
   ]
  },
  {
   "cell_type": "code",
   "execution_count": 285,
   "metadata": {},
   "outputs": [],
   "source": []
  },
  {
   "cell_type": "code",
   "execution_count": null,
   "metadata": {},
   "outputs": [],
   "source": []
  },
  {
   "cell_type": "code",
   "execution_count": null,
   "metadata": {},
   "outputs": [],
   "source": [
    "[(dict.keys()), dict.values()]"
   ]
  },
  {
   "cell_type": "code",
   "execution_count": null,
   "metadata": {},
   "outputs": [],
   "source": [
    "np.argmin(np.array(dict.values()))"
   ]
  },
  {
   "cell_type": "code",
   "execution_count": 21,
   "metadata": {},
   "outputs": [],
   "source": [
    "all_possible_subformulas, all_possible_masses = get_all_subformulas(instance['SMILES'])"
   ]
  },
  {
   "cell_type": "code",
   "execution_count": 170,
   "metadata": {},
   "outputs": [],
   "source": [
    "idx_left, idx_right = all_possible_masses.searchsorted([neutral_mass-0.005, neutral_mass+0.005])"
   ]
  },
  {
   "cell_type": "code",
   "execution_count": null,
   "metadata": {},
   "outputs": [],
   "source": [
    "target_formula = all_possible_subformulas[idx_left:idx_right][0]\n",
    "target_formula"
   ]
  },
  {
   "cell_type": "code",
   "execution_count": 172,
   "metadata": {},
   "outputs": [],
   "source": [
    "subgraph_length = get_subgraph_length(all_possible_subformulas[idx_left:idx_right][0])"
   ]
  },
  {
   "cell_type": "code",
   "execution_count": 32,
   "metadata": {},
   "outputs": [],
   "source": [
    "mol = Chem.MolFromSmiles(instance['SMILES'])"
   ]
  },
  {
   "cell_type": "code",
   "execution_count": null,
   "metadata": {},
   "outputs": [],
   "source": []
  },
  {
   "cell_type": "code",
   "execution_count": 195,
   "metadata": {},
   "outputs": [],
   "source": [
    "lst = Chem.rdmolops.FindAllSubgraphsOfLengthN(submol, 10)"
   ]
  },
  {
   "cell_type": "code",
   "execution_count": null,
   "metadata": {},
   "outputs": [],
   "source": [
    "len(lst)"
   ]
  },
  {
   "cell_type": "code",
   "execution_count": 173,
   "metadata": {},
   "outputs": [],
   "source": [
    "all_subgraphs_given_length = Chem.rdmolops.FindAllSubgraphsOfLengthN(mol, subgraph_length)"
   ]
  },
  {
   "cell_type": "code",
   "execution_count": null,
   "metadata": {},
   "outputs": [],
   "source": [
    "mol"
   ]
  },
  {
   "cell_type": "code",
   "execution_count": 183,
   "metadata": {},
   "outputs": [],
   "source": []
  },
  {
   "cell_type": "code",
   "execution_count": 187,
   "metadata": {},
   "outputs": [],
   "source": [
    "submol=Chem.PathToSubmol(mol, env)"
   ]
  },
  {
   "cell_type": "code",
   "execution_count": null,
   "metadata": {},
   "outputs": [],
   "source": [
    "all_subgraphs_given_length(submol, 10)"
   ]
  },
  {
   "cell_type": "code",
   "execution_count": null,
   "metadata": {},
   "outputs": [],
   "source": [
    "Draw.MolsToGridImage([mol], subImgSize=(500,500),\n",
    "                     highlightBondLists=[[a for a in env]], \n",
    "                     molsPerRow=1)"
   ]
  },
  {
   "cell_type": "code",
   "execution_count": null,
   "metadata": {},
   "outputs": [],
   "source": [
    "CalcMolFormula(mol)"
   ]
  },
  {
   "cell_type": "code",
   "execution_count": 174,
   "metadata": {},
   "outputs": [],
   "source": [
    "lst = []\n",
    "for subgraph in all_subgraphs_given_length:\n",
    "    \n",
    "    submol = Chem.PathToSubmol(mol, subgraph)\n",
    "\n",
    "    sub_formula = CalcMolFormula(submol)\n",
    "    if compare_formula(target_formula, sub_formula):\n",
    "        lst.append(subgraph)"
   ]
  },
  {
   "cell_type": "code",
   "execution_count": null,
   "metadata": {},
   "outputs": [],
   "source": [
    "mol = Chem.MolFromSmiles(instance['SMILES'])\n",
    "IPythonConsole.molSize = (800, 800) \n",
    "Draw.MolsToGridImage([mol], subImgSize=(500,500),\n",
    "                     highlightBondLists=[[a for a in lst[0]]], \n",
    "                     molsPerRow=1)\n"
   ]
  },
  {
   "cell_type": "code",
   "execution_count": 138,
   "metadata": {},
   "outputs": [],
   "source": [
    "from spectral_denoising.seven_golden_rules import *"
   ]
  },
  {
   "cell_type": "code",
   "execution_count": null,
   "metadata": {},
   "outputs": [],
   "source": [
    "check_ratio('C3O8H12')"
   ]
  },
  {
   "cell_type": "code",
   "execution_count": 149,
   "metadata": {},
   "outputs": [],
   "source": [
    "fake_mass = Formula('C3O6H6').isotope.mass"
   ]
  },
  {
   "cell_type": "code",
   "execution_count": 150,
   "metadata": {},
   "outputs": [],
   "source": [
    "idx_left, ldx_right = all_possible_masses.searchsorted([fake_mass-0.005, fake_mass+0.005])"
   ]
  },
  {
   "cell_type": "code",
   "execution_count": null,
   "metadata": {},
   "outputs": [],
   "source": [
    "subformula_candidate = all_possible_subformulas[idx_left:ldx_right]\n",
    "print(subformula_candidate)"
   ]
  },
  {
   "cell_type": "code",
   "execution_count": 158,
   "metadata": {},
   "outputs": [],
   "source": [
    "import spectral_denoising.spectral_operations as so"
   ]
  },
  {
   "cell_type": "code",
   "execution_count": 160,
   "metadata": {},
   "outputs": [],
   "source": [
    "msms_s = so.standardize_spectra(msms)"
   ]
  },
  {
   "cell_type": "code",
   "execution_count": 161,
   "metadata": {},
   "outputs": [],
   "source": [
    "noise = so.pack_spectra([fake_mass+proton_mass], [0.5])"
   ]
  },
  {
   "cell_type": "code",
   "execution_count": 313,
   "metadata": {},
   "outputs": [],
   "source": [
    "neutral_mass = msms_s.T[0][-1]-proton_mass\n"
   ]
  },
  {
   "cell_type": "code",
   "execution_count": 316,
   "metadata": {},
   "outputs": [],
   "source": [
    "idx_left, idx_right = all_possible_masses.searchsorted([neutral_mass-0.005, neutral_mass+0.005])"
   ]
  },
  {
   "cell_type": "code",
   "execution_count": 335,
   "metadata": {},
   "outputs": [],
   "source": [
    "from spectral_denoising.seven_golden_rules import *\n",
    "from spectral_denoising.test import *"
   ]
  },
  {
   "cell_type": "code",
   "execution_count": 347,
   "metadata": {},
   "outputs": [],
   "source": [
    "target_formula = all_possible_subformulas[idx_left:idx_right][0]\n",
    "rarest_atom = get_rarest_heavy_atom(target_formula)\n",
    "atom_idx_lst = get_atom_index(mol, rarest_atom)\n",
    "subgraph_length = get_subgraph_length(target_formula)"
   ]
  },
  {
   "cell_type": "code",
   "execution_count": 391,
   "metadata": {},
   "outputs": [],
   "source": [
    "env=Chem.FindAtomEnvironmentOfRadiusN(mol, subgraph_length, 1)"
   ]
  },
  {
   "cell_type": "code",
   "execution_count": 395,
   "metadata": {},
   "outputs": [],
   "source": [
    "atoms=mol.GetAtoms()"
   ]
  },
  {
   "cell_type": "code",
   "execution_count": null,
   "metadata": {},
   "outputs": [],
   "source": [
    "for a in atoms:\n",
    "    print(a.GetSymbol(), a.GetIdx())\n",
    "    break"
   ]
  },
  {
   "cell_type": "code",
   "execution_count": 407,
   "metadata": {},
   "outputs": [],
   "source": [
    "mol_frags = rdmolops.GetMolFrags(mol, asMols = True)\n",
    "# b\n",
    "# largest_mol = max(mol_frags, default=index2smiles, key=lambda m: m.GetNumAtoms())\n",
    "# largest_mol_smiles = Chem.MolToSmiles(largest_mol)"
   ]
  },
  {
   "cell_type": "code",
   "execution_count": null,
   "metadata": {},
   "outputs": [],
   "source": [
    "subgraph_length"
   ]
  },
  {
   "cell_type": "code",
   "execution_count": 426,
   "metadata": {},
   "outputs": [],
   "source": [
    "all_subgraph_env = []\n",
    "for idx in tqdm(atom_idx_lst):\n",
    "        subgraphs =Chem.rdmolops.FindAllSubgraphsOfLengthN(mol, subgraph_length, rootedAtAtom=idx)\n",
    "        # break"
   ]
  },
  {
   "cell_type": "code",
   "execution_count": 427,
   "metadata": {},
   "outputs": [],
   "source": [
    "subgraphs =Chem.rdmolops.FindAllSubgraphsOfLengthN(mol, subgraph_length)"
   ]
  },
  {
   "cell_type": "code",
   "execution_count": 425,
   "metadata": {},
   "outputs": [],
   "source": [
    "subgraphs =Chem.rdmolops.FindAllSubgraphsOfLengthN(mol, subgraph_length, rootedAtAtom=atom_idx_lst[0])"
   ]
  },
  {
   "cell_type": "code",
   "execution_count": null,
   "metadata": {},
   "outputs": [],
   "source": [
    "import networkx as nx\n",
    "import numpy as np\n",
    "from itertools import combinations\n",
    "\n",
    "def generate_subgraphs_with_node(adjacency_matrix, target_node, length):\n",
    "    # Convert adjacency matrix to NetworkX graph\n",
    "    G = nx.from_numpy_matrix(np.array(adjacency_matrix))\n",
    "    \n",
    "    # Get all subgraphs of a specific length containing the target node\n",
    "    subgraphs = []\n",
    "    nodes = set(G.nodes())\n",
    "    \n",
    "    # Only consider combinations of nodes that include the target node\n",
    "    nodes.remove(target_node)\n",
    "    for node_comb in combinations(nodes, length - 1):\n",
    "        subgraph_nodes = set(node_comb).union({target_node})\n",
    "        subgraph = G.subgraph(subgraph_nodes)\n",
    "        \n",
    "        if len(subgraph) == length:\n",
    "            subgraphs.append(subgraph)\n",
    "    \n",
    "    return subgraphs\n",
    "\n",
    "# Example usage\n",
    "adjacency_matrix = [\n",
    "    [0, 1, 1, 0],\n",
    "    [1, 0, 1, 1],\n",
    "    [1, 1, 0, 1],\n",
    "    [0, 1, 1, 0]\n",
    "]\n",
    "def visualize_graph_from_adjacency(adjacency_matrix):\n",
    "    # Create a NetworkX graph from adjacency matrix\n",
    "    G = nx.from_numpy_matrix(np.array(adjacency_matrix))\n",
    "    pos = nx.spring_layout(G)\n",
    "    plt.figure(figsize=(6, 6))\n",
    "    nx.draw_networkx(G, with_labels=True)\n",
    "    plt.title('Graph from Adjacency Matrix')\n",
    "    plt.show()\n",
    "target_node = 1\n",
    "length = 3\n",
    "\n",
    "subgraphs = generate_subgraphs_with_node(adjacency_matrix, target_node, length)\n",
    "\n",
    "# Print all subgraphs as edge lists\n",
    "for i, sg in enumerate(subgraphs):\n",
    "    print(f\"Subgraph {i+1}: Nodes {list(sg.nodes())}, Edges {list(sg.edges())}\")\n"
   ]
  },
  {
   "cell_type": "code",
   "execution_count": 442,
   "metadata": {},
   "outputs": [],
   "source": [
    "adjacency_matrix = Chem.GetAdjacencyMatrix(mol)"
   ]
  },
  {
   "cell_type": "code",
   "execution_count": 450,
   "metadata": {},
   "outputs": [],
   "source": [
    "G = nx.from_numpy_matrix((adjacency_matrix))"
   ]
  },
  {
   "cell_type": "code",
   "execution_count": null,
   "metadata": {},
   "outputs": [],
   "source": [
    "nx.draw_networkx(G, with_labels=True)\n",
    "    "
   ]
  },
  {
   "cell_type": "code",
   "execution_count": null,
   "metadata": {},
   "outputs": [],
   "source": [
    "env"
   ]
  },
  {
   "cell_type": "code",
   "execution_count": null,
   "metadata": {},
   "outputs": [],
   "source": [
    "len(sub_graphs)"
   ]
  },
  {
   "cell_type": "code",
   "execution_count": null,
   "metadata": {},
   "outputs": [],
   "source": [
    "for f in all_possible_subformulas[idx_left:idx_right]:\n",
    "    print(f, check_ratio(f), check_senior(f))"
   ]
  },
  {
   "cell_type": "code",
   "execution_count": 152,
   "metadata": {},
   "outputs": [],
   "source": [
    "subgraph_length = get_subgraph_length(subformula_candidate[0])\n",
    "all_subgraphs_given_length = Chem.rdmolops.FindAllSubgraphsOfLengthN(mol, subgraph_length)"
   ]
  },
  {
   "cell_type": "code",
   "execution_count": 153,
   "metadata": {},
   "outputs": [],
   "source": [
    "lst = []\n",
    "for subgraph in all_subgraphs_given_length:\n",
    "    \n",
    "    submol = Chem.PathToSubmol(mol, subgraph)\n",
    "\n",
    "    sub_formula = CalcMolFormula(submol)\n",
    "    if compare_formula(subformula_candidate[0], sub_formula):\n",
    "        lst.append(subgraph)"
   ]
  },
  {
   "cell_type": "code",
   "execution_count": null,
   "metadata": {},
   "outputs": [],
   "source": [
    "len(lst)"
   ]
  }
 ],
 "metadata": {
  "kernelspec": {
   "display_name": "alphapept_env",
   "language": "python",
   "name": "python3"
  },
  "language_info": {
   "codemirror_mode": {
    "name": "ipython",
    "version": 3
   },
   "file_extension": ".py",
   "mimetype": "text/x-python",
   "name": "python",
   "nbconvert_exporter": "python",
   "pygments_lexer": "ipython3",
   "version": "3.8.13"
  }
 },
 "nbformat": 4,
 "nbformat_minor": 2
}
