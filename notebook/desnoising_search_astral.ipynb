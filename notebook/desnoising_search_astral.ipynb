{
 "cells": [
  {
   "cell_type": "code",
   "execution_count": 1,
   "metadata": {},
   "outputs": [],
   "source": [
    "%load_ext autoreload\n",
    "%autoreload 2\n",
    "import pandas as pd\n",
    "import numpy as np\n",
    "import sys\n",
    "import inspect\n",
    "import os\n",
    "sys.path.insert(0, '..') \n",
    "import spectral_denoising as sd\n",
    "from spectral_denoising.file_io import standardize_col\n",
    "from spectral_denoising.search_utils import *\n",
    "from spectral_denoising.spectral_operations import *\n",
    "from spectral_denoising.spectral_denoising import *\n",
    "from spectral_denoising.search_utils import *\n",
    "from spectral_denoising.spectral_denoising import *\n",
    "from spectral_denoising.spectral_operations import *\n",
    "from spectral_denoising.identifier_utils import *\n",
    "from tqdm import tqdm"
   ]
  },
  {
   "cell_type": "markdown",
   "metadata": {},
   "source": [
    "# denoising search: single spectrum"
   ]
  },
  {
   "cell_type": "code",
   "execution_count": 46,
   "metadata": {},
   "outputs": [
    {
     "name": "stdout",
     "output_type": "stream",
     "text": [
      "done read in df...\n"
     ]
    }
   ],
   "source": [
    "\n",
    "\n",
    "reference_lib= sd.read_df('/Users/fanzhoukong/Documents/GitHub/Libgen_data/curated_library/csv/pos_orbi_sorted.csv')\n",
    "# reference_lib.dropna(subset=['smiles'], inplace=True)\n"
   ]
  },
  {
   "cell_type": "code",
   "execution_count": 79,
   "metadata": {},
   "outputs": [
    {
     "name": "stdout",
     "output_type": "stream",
     "text": [
      "done read in df...\n"
     ]
    }
   ],
   "source": [
    "# query_spectra= sd.read_df('/Users/fanzhoukong/Documents/GitHub/Libgen_data/Astral/Astral/alignment/pos/Height_4_20243141653_posBA.csv')\n",
    "query_spectra= sd.read_df('/Users/fanzhoukong/Documents/GitHub/Libgen_data/Astral/Astral/alignment/pos/Height_4_20243141653_posBA_cleaned.csv')\n",
    "# query_spectra= sd.read_df('/Users/fanzhoukong/Documents/GitHub/Libgen_data/Astral/Astral/alignment/pos/20240311ST_posHILIC_NIST_Astral_AGC1.csv')\n",
    "# query_spectra = query_spectra[['precursor_mz','peaks']]\n",
    "# query_spectra.dropna(subset=['peaks'],inplace=True) "
   ]
  },
  {
   "cell_type": "code",
   "execution_count": 43,
   "metadata": {},
   "outputs": [],
   "source": [
    "smiles = 'CNCCC(O)c1ccccc1'\n",
    "adduct = '[M+H]+'\n",
    "msms = query_spectra.iloc[0]['peaks']\n",
    "pmz = query_spectra.iloc[0]['precursor_mz']\n",
    "tt = sd.spectral_denoising(msms, smiles, adduct)"
   ]
  },
  {
   "cell_type": "code",
   "execution_count": 40,
   "metadata": {},
   "outputs": [
    {
     "data": {
      "text/plain": [
       "0.6672167181968689"
      ]
     },
     "execution_count": 40,
     "metadata": {},
     "output_type": "execute_result"
    }
   ],
   "source": [
    "so.entropy_similairty(tt, old.iloc[0]['peaks'], pmz = query_spectra.iloc[0]['precursor_mz'])"
   ]
  },
  {
   "cell_type": "code",
   "execution_count": 11,
   "metadata": {},
   "outputs": [],
   "source": [
    "import spectral_denoising.denoising_related_functions as drf"
   ]
  },
  {
   "cell_type": "code",
   "execution_count": 51,
   "metadata": {},
   "outputs": [],
   "source": [
    "test = sd.spectral_denoising(msms, 'CNC(C)C(O)c1ccccc1', '[M+H]+')"
   ]
  },
  {
   "cell_type": "code",
   "execution_count": 58,
   "metadata": {},
   "outputs": [
    {
     "data": {
      "text/plain": [
       "0.6672167181968689"
      ]
     },
     "execution_count": 58,
     "metadata": {},
     "output_type": "execute_result"
    }
   ],
   "source": [
    "sd.entropy_similairty(result.iloc[0]['denoised_peaks'], result.iloc[0]['peaks'],result.iloc[0]['precursor_mz'] )"
   ]
  },
  {
   "cell_type": "code",
   "execution_count": 53,
   "metadata": {},
   "outputs": [
    {
     "data": {
      "text/plain": [
       "0.6672167181968689"
      ]
     },
     "execution_count": 53,
     "metadata": {},
     "output_type": "execute_result"
    }
   ],
   "source": [
    "so.entropy_similairty(test, result.iloc[1]['peaks'], pmz)"
   ]
  },
  {
   "cell_type": "code",
   "execution_count": 64,
   "metadata": {},
   "outputs": [],
   "source": [
    "result = sd.denoising_search(msms, pmz, reference_lib, first_n=1)"
   ]
  },
  {
   "cell_type": "code",
   "execution_count": null,
   "metadata": {},
   "outputs": [
    {
     "name": "stderr",
     "output_type": "stream",
     "text": [
      " 14%|█▎        | 688/5022 [00:25<02:39, 27.18it/s]\n"
     ]
    }
   ],
   "source": [
    "c = 0\n",
    "for r in tqdm(results):\n",
    "    if len(r)>0:\n",
    "        r_temp = r.sort_values(by = 'entropy_similarity', ascending = False)\n",
    "        if r_temp.iloc[0]['entropy_similarity']>0.7:\n",
    "            if r_temp.iloc[0]['denoised_similarity'] != r_temp.iloc[0]['denoised_similarity']:\n",
    "                print('ttt')\n",
    "                break\n"
   ]
  },
  {
   "cell_type": "code",
   "execution_count": 63,
   "metadata": {},
   "outputs": [],
   "source": []
  },
  {
   "cell_type": "code",
   "execution_count": 81,
   "metadata": {},
   "outputs": [
    {
     "name": "stderr",
     "output_type": "stream",
     "text": [
      "100%|██████████| 5012/5012 [07:56<00:00, 10.51it/s]\n"
     ]
    },
    {
     "data": {
      "text/plain": [
       "530"
      ]
     },
     "execution_count": 81,
     "metadata": {},
     "output_type": "execute_result"
    }
   ],
   "source": [
    "results = sd.denoising_search_batch(query_spectra['peaks'], query_spectra['precursor_mz'], reference_lib)\n",
    "count = 0\n",
    "for r in results:\n",
    "    if len(r)>0:\n",
    "        if r['denoised_similarity'].max()>0.75:\n",
    "            count +=1\n",
    "count"
   ]
  },
  {
   "cell_type": "code",
   "execution_count": 82,
   "metadata": {},
   "outputs": [
    {
     "data": {
      "text/plain": [
       "530"
      ]
     },
     "execution_count": 82,
     "metadata": {},
     "output_type": "execute_result"
    }
   ],
   "source": [
    "count"
   ]
  },
  {
   "cell_type": "code",
   "execution_count": 77,
   "metadata": {},
   "outputs": [],
   "source": [
    "c"
   ]
  },
  {
   "cell_type": "code",
   "execution_count": 78,
   "metadata": {},
   "outputs": [
    {
     "data": {
      "text/plain": [
       "530"
      ]
     },
     "execution_count": 78,
     "metadata": {},
     "output_type": "execute_result"
    }
   ],
   "source": []
  },
  {
   "cell_type": "code",
   "execution_count": 71,
   "metadata": {},
   "outputs": [
    {
     "data": {
      "text/html": [
       "<div>\n",
       "<style scoped>\n",
       "    .dataframe tbody tr th:only-of-type {\n",
       "        vertical-align: middle;\n",
       "    }\n",
       "\n",
       "    .dataframe tbody tr th {\n",
       "        vertical-align: top;\n",
       "    }\n",
       "\n",
       "    .dataframe thead th {\n",
       "        text-align: right;\n",
       "    }\n",
       "</style>\n",
       "<table border=\"1\" class=\"dataframe\">\n",
       "  <thead>\n",
       "    <tr style=\"text-align: right;\">\n",
       "      <th></th>\n",
       "      <th>lib_id</th>\n",
       "      <th>peaks</th>\n",
       "      <th>name</th>\n",
       "      <th>precursor_mz</th>\n",
       "      <th>adduct</th>\n",
       "      <th>smiles</th>\n",
       "      <th>comments</th>\n",
       "      <th>processed_formulas</th>\n",
       "      <th>charge</th>\n",
       "      <th>msms_denoised</th>\n",
       "      <th>entropy_raw</th>\n",
       "      <th>entropy_denoised</th>\n",
       "      <th>label</th>\n",
       "      <th>entropy_offset</th>\n",
       "    </tr>\n",
       "  </thead>\n",
       "  <tbody>\n",
       "    <tr>\n",
       "      <th>0</th>\n",
       "      <td>205079.0</td>\n",
       "      <td>[[148.1119, 85.8], [166.1223, 999.0]]</td>\n",
       "      <td>(-)-Pseudoephedrine</td>\n",
       "      <td>166.1226</td>\n",
       "      <td>[M+H]+</td>\n",
       "      <td>CNC(C)C(O)c1ccccc1</td>\n",
       "      <td>NIST Mass Spectrometry Data Center</td>\n",
       "      <td>C10H15N3O2</td>\n",
       "      <td>1.0</td>\n",
       "      <td>[[77.03851, 288.0], [82.06471, 222.0], [108.08...</td>\n",
       "      <td>0.567025</td>\n",
       "      <td>0.667217</td>\n",
       "      <td>0</td>\n",
       "      <td>0.100191</td>\n",
       "    </tr>\n",
       "    <tr>\n",
       "      <th>1</th>\n",
       "      <td>323861.0</td>\n",
       "      <td>[[55.0543, 4.1], [57.0699, 2.8], [67.054, 7.7]...</td>\n",
       "      <td>Jasmonic acid</td>\n",
       "      <td>193.1223</td>\n",
       "      <td>[M+H-H2O]+</td>\n",
       "      <td>CCC=CCC1C(=O)CCC1CC(=O)O</td>\n",
       "      <td>NIST Mass Spectrometry Data Center</td>\n",
       "      <td>C12H16O2</td>\n",
       "      <td>1.0</td>\n",
       "      <td>[[69.06957, 617.0], [79.05421, 1407.0], [92.05...</td>\n",
       "      <td>0.550193</td>\n",
       "      <td>0.633821</td>\n",
       "      <td>1</td>\n",
       "      <td>0.083628</td>\n",
       "    </tr>\n",
       "    <tr>\n",
       "      <th>2</th>\n",
       "      <td>627445.0</td>\n",
       "      <td>[[55.0178, 4.4], [55.0541, 42.8], [57.0698, 13...</td>\n",
       "      <td>Albocycline</td>\n",
       "      <td>259.1693</td>\n",
       "      <td>[M+H-CH6O2]+</td>\n",
       "      <td>COC1C=CC(C)(O)C=CC(=O)OC(C)C(C)CCC=C1C</td>\n",
       "      <td>NIST Mass Spectrometry Data Center</td>\n",
       "      <td>C17H22O2</td>\n",
       "      <td>1.0</td>\n",
       "      <td>[[57.06985, 59115.0], [65.09762, 768.0], [91.0...</td>\n",
       "      <td>0.352207</td>\n",
       "      <td>0.365202</td>\n",
       "      <td>2</td>\n",
       "      <td>0.012995</td>\n",
       "    </tr>\n",
       "    <tr>\n",
       "      <th>3</th>\n",
       "      <td>655980.0</td>\n",
       "      <td>[[60.0807, 11.0], [73.076, 1.0], [85.076, 1.5]...</td>\n",
       "      <td>6,6-Dimethylbicyclo[3.1.1]hept-2-ene-2-carbald...</td>\n",
       "      <td>266.1685</td>\n",
       "      <td>[M+H]+</td>\n",
       "      <td>CC(C)NC(=S)NN=CC1=CCC2CC1C2(C)C</td>\n",
       "      <td>NIST Mass Spectrometry Data Center</td>\n",
       "      <td>C14H23N3S</td>\n",
       "      <td>1.0</td>\n",
       "      <td>[[58.0645, 88.0], [68.04918, 48.0], [97.10242,...</td>\n",
       "      <td>0.160939</td>\n",
       "      <td>0.219588</td>\n",
       "      <td>3</td>\n",
       "      <td>0.058650</td>\n",
       "    </tr>\n",
       "    <tr>\n",
       "      <th>4</th>\n",
       "      <td>510529.0</td>\n",
       "      <td>[[55.0544, 5.8], [83.0493, 191.5], [84.0526, 4...</td>\n",
       "      <td>6-(4-Hydroxy-3-methylphenyl)-2-methylhept-2-en...</td>\n",
       "      <td>233.1536</td>\n",
       "      <td>[M+H]+</td>\n",
       "      <td>CC(C)=CC(=O)CC(C)c1ccc(O)c(C)c1</td>\n",
       "      <td>NIST Mass Spectrometry Data Center</td>\n",
       "      <td>C15H20N2O3</td>\n",
       "      <td>1.0</td>\n",
       "      <td>[[52.0179, 258.0], [55.0539, 926.0], [59.05997...</td>\n",
       "      <td>0.522126</td>\n",
       "      <td>0.551498</td>\n",
       "      <td>4</td>\n",
       "      <td>0.029373</td>\n",
       "    </tr>\n",
       "    <tr>\n",
       "      <th>...</th>\n",
       "      <td>...</td>\n",
       "      <td>...</td>\n",
       "      <td>...</td>\n",
       "      <td>...</td>\n",
       "      <td>...</td>\n",
       "      <td>...</td>\n",
       "      <td>...</td>\n",
       "      <td>...</td>\n",
       "      <td>...</td>\n",
       "      <td>...</td>\n",
       "      <td>...</td>\n",
       "      <td>...</td>\n",
       "      <td>...</td>\n",
       "      <td>...</td>\n",
       "    </tr>\n",
       "    <tr>\n",
       "      <th>5007</th>\n",
       "      <td>875107.0</td>\n",
       "      <td>[[89.0595, 31.5], [105.0334, 1.8], [133.086, 3...</td>\n",
       "      <td>2-Hydroxy-4-(octyloxyl)benzophenone</td>\n",
       "      <td>327.1955</td>\n",
       "      <td>[M+H]+</td>\n",
       "      <td>CCCCCCCCOc1ccc(C(=O)c2ccccc2)c(O)c1</td>\n",
       "      <td>NIST Mass Spectrometry Data Center</td>\n",
       "      <td>C21H26N2O4</td>\n",
       "      <td>1.0</td>\n",
       "      <td>[[85.06563, 557.0], [89.05976, 18084.0], [133....</td>\n",
       "      <td>0.578705</td>\n",
       "      <td>0.587774</td>\n",
       "      <td>5017</td>\n",
       "      <td>0.009068</td>\n",
       "    </tr>\n",
       "    <tr>\n",
       "      <th>5008</th>\n",
       "      <td>875107.0</td>\n",
       "      <td>[[89.0595, 31.5], [105.0334, 1.8], [133.086, 3...</td>\n",
       "      <td>2-Hydroxy-4-(octyloxyl)benzophenone</td>\n",
       "      <td>327.1955</td>\n",
       "      <td>[M+H]+</td>\n",
       "      <td>CCCCCCCCOc1ccc(C(=O)c2ccccc2)c(O)c1</td>\n",
       "      <td>NIST Mass Spectrometry Data Center</td>\n",
       "      <td>C21H26N2O4</td>\n",
       "      <td>1.0</td>\n",
       "      <td>[[54.03349, 9330.0], [58.0654, 18201.0], [59.0...</td>\n",
       "      <td>0.308383</td>\n",
       "      <td>0.334888</td>\n",
       "      <td>5018</td>\n",
       "      <td>0.026505</td>\n",
       "    </tr>\n",
       "    <tr>\n",
       "      <th>5009</th>\n",
       "      <td>844240.0</td>\n",
       "      <td>[[93.0337, 1.8], [95.0493, 1.4], [109.0287, 1....</td>\n",
       "      <td>Rhamnetin</td>\n",
       "      <td>317.0656</td>\n",
       "      <td>[M+H]+</td>\n",
       "      <td>COc1cc(O)c2c(=O)c(O)c(-c3ccc(O)c(O)c3)oc2c1</td>\n",
       "      <td>NIST Mass Spectrometry Data Center</td>\n",
       "      <td>C16H12N2O8</td>\n",
       "      <td>1.0</td>\n",
       "      <td>[[85.06426, 472.0], [89.02425, 171.0], [96.080...</td>\n",
       "      <td>0.261822</td>\n",
       "      <td>0.317663</td>\n",
       "      <td>5019</td>\n",
       "      <td>0.055841</td>\n",
       "    </tr>\n",
       "    <tr>\n",
       "      <th>5010</th>\n",
       "      <td>563907.0</td>\n",
       "      <td>[[56.0492, 17.7], [59.9899, 32.5], [65.0383, 5...</td>\n",
       "      <td>4-Phenyl-1,2,3,4,5,6,7,8-octahydroquinazoline-...</td>\n",
       "      <td>245.1107</td>\n",
       "      <td>[M+H]+</td>\n",
       "      <td>S=C1NC2=C(CCCC2)C(c2ccccc2)N1</td>\n",
       "      <td>NIST Mass Spectrometry Data Center</td>\n",
       "      <td>C14H16N4OS</td>\n",
       "      <td>1.0</td>\n",
       "      <td>[[59.0603, 1638.0], [91.03072, 2675.0], [119.0...</td>\n",
       "      <td>0.215397</td>\n",
       "      <td>0.233066</td>\n",
       "      <td>5020</td>\n",
       "      <td>0.017669</td>\n",
       "    </tr>\n",
       "    <tr>\n",
       "      <th>5011</th>\n",
       "      <td>949079.0</td>\n",
       "      <td>[[144.0808, 15.661109], [212.1281, 11.350578],...</td>\n",
       "      <td>Yohimbine</td>\n",
       "      <td>355.2016</td>\n",
       "      <td>[M+H]+</td>\n",
       "      <td>COC(=O)[C@H]1[C@H](CC[C@@H]2[C@@H]1C[C@H]3c4c(...</td>\n",
       "      <td>\"SMILES=COC(=O)[C@H]1[C@H](CC[C@@H]2[C@@H]1C[C...</td>\n",
       "      <td>C21H26N4O4</td>\n",
       "      <td>1.0</td>\n",
       "      <td>[[59.06012, 390.0], [69.07006, 1313.0], [73.04...</td>\n",
       "      <td>0.646978</td>\n",
       "      <td>0.666023</td>\n",
       "      <td>5021</td>\n",
       "      <td>0.019044</td>\n",
       "    </tr>\n",
       "  </tbody>\n",
       "</table>\n",
       "<p>5012 rows × 14 columns</p>\n",
       "</div>"
      ],
      "text/plain": [
       "        lib_id                                              peaks  \\\n",
       "0     205079.0              [[148.1119, 85.8], [166.1223, 999.0]]   \n",
       "1     323861.0  [[55.0543, 4.1], [57.0699, 2.8], [67.054, 7.7]...   \n",
       "2     627445.0  [[55.0178, 4.4], [55.0541, 42.8], [57.0698, 13...   \n",
       "3     655980.0  [[60.0807, 11.0], [73.076, 1.0], [85.076, 1.5]...   \n",
       "4     510529.0  [[55.0544, 5.8], [83.0493, 191.5], [84.0526, 4...   \n",
       "...        ...                                                ...   \n",
       "5007  875107.0  [[89.0595, 31.5], [105.0334, 1.8], [133.086, 3...   \n",
       "5008  875107.0  [[89.0595, 31.5], [105.0334, 1.8], [133.086, 3...   \n",
       "5009  844240.0  [[93.0337, 1.8], [95.0493, 1.4], [109.0287, 1....   \n",
       "5010  563907.0  [[56.0492, 17.7], [59.9899, 32.5], [65.0383, 5...   \n",
       "5011  949079.0  [[144.0808, 15.661109], [212.1281, 11.350578],...   \n",
       "\n",
       "                                                   name  precursor_mz  \\\n",
       "0                                   (-)-Pseudoephedrine      166.1226   \n",
       "1                                         Jasmonic acid      193.1223   \n",
       "2                                           Albocycline      259.1693   \n",
       "3     6,6-Dimethylbicyclo[3.1.1]hept-2-ene-2-carbald...      266.1685   \n",
       "4     6-(4-Hydroxy-3-methylphenyl)-2-methylhept-2-en...      233.1536   \n",
       "...                                                 ...           ...   \n",
       "5007                2-Hydroxy-4-(octyloxyl)benzophenone      327.1955   \n",
       "5008                2-Hydroxy-4-(octyloxyl)benzophenone      327.1955   \n",
       "5009                                          Rhamnetin      317.0656   \n",
       "5010  4-Phenyl-1,2,3,4,5,6,7,8-octahydroquinazoline-...      245.1107   \n",
       "5011                                          Yohimbine      355.2016   \n",
       "\n",
       "            adduct                                             smiles  \\\n",
       "0           [M+H]+                                 CNC(C)C(O)c1ccccc1   \n",
       "1       [M+H-H2O]+                           CCC=CCC1C(=O)CCC1CC(=O)O   \n",
       "2     [M+H-CH6O2]+             COC1C=CC(C)(O)C=CC(=O)OC(C)C(C)CCC=C1C   \n",
       "3           [M+H]+                    CC(C)NC(=S)NN=CC1=CCC2CC1C2(C)C   \n",
       "4           [M+H]+                    CC(C)=CC(=O)CC(C)c1ccc(O)c(C)c1   \n",
       "...            ...                                                ...   \n",
       "5007        [M+H]+                CCCCCCCCOc1ccc(C(=O)c2ccccc2)c(O)c1   \n",
       "5008        [M+H]+                CCCCCCCCOc1ccc(C(=O)c2ccccc2)c(O)c1   \n",
       "5009        [M+H]+        COc1cc(O)c2c(=O)c(O)c(-c3ccc(O)c(O)c3)oc2c1   \n",
       "5010        [M+H]+                      S=C1NC2=C(CCCC2)C(c2ccccc2)N1   \n",
       "5011        [M+H]+  COC(=O)[C@H]1[C@H](CC[C@@H]2[C@@H]1C[C@H]3c4c(...   \n",
       "\n",
       "                                               comments processed_formulas  \\\n",
       "0                    NIST Mass Spectrometry Data Center         C10H15N3O2   \n",
       "1                    NIST Mass Spectrometry Data Center           C12H16O2   \n",
       "2                    NIST Mass Spectrometry Data Center           C17H22O2   \n",
       "3                    NIST Mass Spectrometry Data Center          C14H23N3S   \n",
       "4                    NIST Mass Spectrometry Data Center         C15H20N2O3   \n",
       "...                                                 ...                ...   \n",
       "5007                 NIST Mass Spectrometry Data Center         C21H26N2O4   \n",
       "5008                 NIST Mass Spectrometry Data Center         C21H26N2O4   \n",
       "5009                 NIST Mass Spectrometry Data Center         C16H12N2O8   \n",
       "5010                 NIST Mass Spectrometry Data Center         C14H16N4OS   \n",
       "5011  \"SMILES=COC(=O)[C@H]1[C@H](CC[C@@H]2[C@@H]1C[C...         C21H26N4O4   \n",
       "\n",
       "      charge                                      msms_denoised  entropy_raw  \\\n",
       "0        1.0  [[77.03851, 288.0], [82.06471, 222.0], [108.08...     0.567025   \n",
       "1        1.0  [[69.06957, 617.0], [79.05421, 1407.0], [92.05...     0.550193   \n",
       "2        1.0  [[57.06985, 59115.0], [65.09762, 768.0], [91.0...     0.352207   \n",
       "3        1.0  [[58.0645, 88.0], [68.04918, 48.0], [97.10242,...     0.160939   \n",
       "4        1.0  [[52.0179, 258.0], [55.0539, 926.0], [59.05997...     0.522126   \n",
       "...      ...                                                ...          ...   \n",
       "5007     1.0  [[85.06563, 557.0], [89.05976, 18084.0], [133....     0.578705   \n",
       "5008     1.0  [[54.03349, 9330.0], [58.0654, 18201.0], [59.0...     0.308383   \n",
       "5009     1.0  [[85.06426, 472.0], [89.02425, 171.0], [96.080...     0.261822   \n",
       "5010     1.0  [[59.0603, 1638.0], [91.03072, 2675.0], [119.0...     0.215397   \n",
       "5011     1.0  [[59.06012, 390.0], [69.07006, 1313.0], [73.04...     0.646978   \n",
       "\n",
       "      entropy_denoised  label  entropy_offset  \n",
       "0             0.667217      0        0.100191  \n",
       "1             0.633821      1        0.083628  \n",
       "2             0.365202      2        0.012995  \n",
       "3             0.219588      3        0.058650  \n",
       "4             0.551498      4        0.029373  \n",
       "...                ...    ...             ...  \n",
       "5007          0.587774   5017        0.009068  \n",
       "5008          0.334888   5018        0.026505  \n",
       "5009          0.317663   5019        0.055841  \n",
       "5010          0.233066   5020        0.017669  \n",
       "5011          0.666023   5021        0.019044  \n",
       "\n",
       "[5012 rows x 14 columns]"
      ]
     },
     "execution_count": 71,
     "metadata": {},
     "output_type": "execute_result"
    }
   ],
   "source": [
    "old"
   ]
  },
  {
   "cell_type": "code",
   "execution_count": 53,
   "metadata": {},
   "outputs": [
    {
     "data": {
      "text/plain": [
       "lib_id                                                         286645.0\n",
       "spectrum              143.0857\\t1.5\\n156.0934\\t3.2\\n157.1013\\t64.8\\n...\n",
       "Name                                                        Chamazulene\n",
       "PrecursorMZ                                                    185.1325\n",
       "Precursor_type                                                   [M+H]+\n",
       "SMILES                                          CCc1ccc(C)c2ccc(C)c-2c1\n",
       "Comments                             NIST Mass Spectrometry Data Center\n",
       "processed_formulas                                               C14H16\n",
       "charge                                                              1.0\n",
       "msms_denoised         157.1008\\t289.0\\n185.05557\\t601.0\\n185.09238\\t...\n",
       "entropy_raw                                                         0.0\n",
       "entropy_denoised                                               0.761177\n",
       "label                                                              3251\n",
       "entropy_offset                                                 0.761177\n",
       "Name: 3249, dtype: object"
      ]
     },
     "execution_count": 53,
     "metadata": {},
     "output_type": "execute_result"
    }
   ],
   "source": [
    "old.loc[3249]"
   ]
  },
  {
   "cell_type": "code",
   "execution_count": 46,
   "metadata": {},
   "outputs": [
    {
     "data": {
      "text/html": [
       "<div>\n",
       "<style scoped>\n",
       "    .dataframe tbody tr th:only-of-type {\n",
       "        vertical-align: middle;\n",
       "    }\n",
       "\n",
       "    .dataframe tbody tr th {\n",
       "        vertical-align: top;\n",
       "    }\n",
       "\n",
       "    .dataframe thead th {\n",
       "        text-align: right;\n",
       "    }\n",
       "</style>\n",
       "<table border=\"1\" class=\"dataframe\">\n",
       "  <thead>\n",
       "    <tr style=\"text-align: right;\">\n",
       "      <th></th>\n",
       "      <th>precursor_mz</th>\n",
       "      <th>peaks</th>\n",
       "    </tr>\n",
       "  </thead>\n",
       "  <tbody>\n",
       "    <tr>\n",
       "      <th>483</th>\n",
       "      <td>185.12866</td>\n",
       "      <td>[[57.93495, 572.0], [58.06522, 353.0], [58.942...</td>\n",
       "    </tr>\n",
       "    <tr>\n",
       "      <th>3045</th>\n",
       "      <td>185.12875</td>\n",
       "      <td>[[72.04516, 707.0], [98.05994, 11583.0], [98.0...</td>\n",
       "    </tr>\n",
       "  </tbody>\n",
       "</table>\n",
       "</div>"
      ],
      "text/plain": [
       "      precursor_mz                                              peaks\n",
       "483      185.12866  [[57.93495, 572.0], [58.06522, 353.0], [58.942...\n",
       "3045     185.12875  [[72.04516, 707.0], [98.05994, 11583.0], [98.0..."
      ]
     },
     "execution_count": 46,
     "metadata": {},
     "output_type": "execute_result"
    }
   ],
   "source": [
    "quick_search_values(query_spectra, 'precursor_mz', 185.1325-0.005, 185.1325+0.005)"
   ]
  },
  {
   "cell_type": "code",
   "execution_count": 54,
   "metadata": {},
   "outputs": [
    {
     "data": {
      "text/plain": [
       "array([[  157.10079956,   289.        ],\n",
       "       [  185.05557251,   601.        ],\n",
       "       [  185.09237671,  1164.        ],\n",
       "       [  185.13949585, 14484.        ]])"
      ]
     },
     "execution_count": 54,
     "metadata": {},
     "output_type": "execute_result"
    }
   ],
   "source": [
    "sd.spectral_denoising(query_spectra.iloc[3251]['peaks'], old.loc[3249]['SMILES'], old.loc[3249]['Precursor_type']) "
   ]
  },
  {
   "cell_type": "code",
   "execution_count": 59,
   "metadata": {},
   "outputs": [
    {
     "data": {
      "text/plain": [
       "0.7611769437789917"
      ]
     },
     "execution_count": 59,
     "metadata": {},
     "output_type": "execute_result"
    }
   ],
   "source": [
    "sd.entropy_similairty(sd.spectral_denoising(query_spectra.iloc[3251]['peaks'], old.loc[3249]['SMILES'], old.loc[3249]['Precursor_type']) ,str_to_arr(old.loc[3249]['spectrum']), pmz =185.1325)"
   ]
  },
  {
   "cell_type": "code",
   "execution_count": 49,
   "metadata": {},
   "outputs": [
    {
     "data": {
      "text/html": [
       "<div>\n",
       "<style scoped>\n",
       "    .dataframe tbody tr th:only-of-type {\n",
       "        vertical-align: middle;\n",
       "    }\n",
       "\n",
       "    .dataframe tbody tr th {\n",
       "        vertical-align: top;\n",
       "    }\n",
       "\n",
       "    .dataframe thead th {\n",
       "        text-align: right;\n",
       "    }\n",
       "</style>\n",
       "<table border=\"1\" class=\"dataframe\">\n",
       "  <thead>\n",
       "    <tr style=\"text-align: right;\">\n",
       "      <th></th>\n",
       "      <th>lib_id</th>\n",
       "      <th>spectrum</th>\n",
       "      <th>Name</th>\n",
       "      <th>PrecursorMZ</th>\n",
       "      <th>Precursor_type</th>\n",
       "      <th>SMILES</th>\n",
       "      <th>Comments</th>\n",
       "      <th>processed_formulas</th>\n",
       "      <th>charge</th>\n",
       "      <th>msms_denoised</th>\n",
       "      <th>entropy_raw</th>\n",
       "      <th>entropy_denoised</th>\n",
       "      <th>label</th>\n",
       "      <th>entropy_offset</th>\n",
       "    </tr>\n",
       "  </thead>\n",
       "  <tbody>\n",
       "    <tr>\n",
       "      <th>0</th>\n",
       "      <td>205079.0</td>\n",
       "      <td>148.1119\\t85.8\\n166.1223\\t999.0</td>\n",
       "      <td>(-)-Pseudoephedrine</td>\n",
       "      <td>166.1226</td>\n",
       "      <td>[M+H]+</td>\n",
       "      <td>CNC(C)C(O)c1ccccc1</td>\n",
       "      <td>NIST Mass Spectrometry Data Center</td>\n",
       "      <td>C10H15N3O2</td>\n",
       "      <td>1.0</td>\n",
       "      <td>77.03851\\t288.0\\n82.06471\\t222.0\\n108.08086\\t5...</td>\n",
       "      <td>0.567025</td>\n",
       "      <td>0.667217</td>\n",
       "      <td>0</td>\n",
       "      <td>0.100191</td>\n",
       "    </tr>\n",
       "    <tr>\n",
       "      <th>1</th>\n",
       "      <td>323861.0</td>\n",
       "      <td>55.0543\\t4.1\\n57.0699\\t2.8\\n67.054\\t7.7\\n69.06...</td>\n",
       "      <td>Jasmonic acid</td>\n",
       "      <td>193.1223</td>\n",
       "      <td>[M+H-H2O]+</td>\n",
       "      <td>CCC=CCC1C(=O)CCC1CC(=O)O</td>\n",
       "      <td>NIST Mass Spectrometry Data Center</td>\n",
       "      <td>C12H16O2</td>\n",
       "      <td>1.0</td>\n",
       "      <td>69.06957\\t617.0\\n79.05421\\t1407.0\\n92.05818\\t4...</td>\n",
       "      <td>0.550193</td>\n",
       "      <td>0.633821</td>\n",
       "      <td>1</td>\n",
       "      <td>0.083628</td>\n",
       "    </tr>\n",
       "    <tr>\n",
       "      <th>2</th>\n",
       "      <td>627445.0</td>\n",
       "      <td>55.0178\\t4.4\\n55.0541\\t42.8\\n57.0698\\t13.2\\n67...</td>\n",
       "      <td>Albocycline</td>\n",
       "      <td>259.1693</td>\n",
       "      <td>[M+H-CH6O2]+</td>\n",
       "      <td>COC1C=CC(C)(O)C=CC(=O)OC(C)C(C)CCC=C1C</td>\n",
       "      <td>NIST Mass Spectrometry Data Center</td>\n",
       "      <td>C17H22O2</td>\n",
       "      <td>1.0</td>\n",
       "      <td>57.06985\\t59115.0\\n65.09762\\t768.0\\n91.05431\\t...</td>\n",
       "      <td>0.352207</td>\n",
       "      <td>0.365202</td>\n",
       "      <td>2</td>\n",
       "      <td>0.012995</td>\n",
       "    </tr>\n",
       "    <tr>\n",
       "      <th>3</th>\n",
       "      <td>655980.0</td>\n",
       "      <td>60.0807\\t11.0\\n73.076\\t1.0\\n85.076\\t1.5\\n95.06...</td>\n",
       "      <td>6,6-Dimethylbicyclo[3.1.1]hept-2-ene-2-carbald...</td>\n",
       "      <td>266.1685</td>\n",
       "      <td>[M+H]+</td>\n",
       "      <td>CC(C)NC(=S)NN=CC1=CCC2CC1C2(C)C</td>\n",
       "      <td>NIST Mass Spectrometry Data Center</td>\n",
       "      <td>C14H23N3S</td>\n",
       "      <td>1.0</td>\n",
       "      <td>58.0645\\t88.0\\n68.04918\\t48.0\\n97.10242\\t54.0\\...</td>\n",
       "      <td>0.160939</td>\n",
       "      <td>0.219588</td>\n",
       "      <td>3</td>\n",
       "      <td>0.058650</td>\n",
       "    </tr>\n",
       "    <tr>\n",
       "      <th>4</th>\n",
       "      <td>510529.0</td>\n",
       "      <td>55.0544\\t5.8\\n83.0493\\t191.5\\n84.0526\\t4.7\\n91...</td>\n",
       "      <td>6-(4-Hydroxy-3-methylphenyl)-2-methylhept-2-en...</td>\n",
       "      <td>233.1536</td>\n",
       "      <td>[M+H]+</td>\n",
       "      <td>CC(C)=CC(=O)CC(C)c1ccc(O)c(C)c1</td>\n",
       "      <td>NIST Mass Spectrometry Data Center</td>\n",
       "      <td>C15H20N2O3</td>\n",
       "      <td>1.0</td>\n",
       "      <td>52.0179\\t258.0\\n55.0539\\t926.0\\n59.05997\\t806....</td>\n",
       "      <td>0.522126</td>\n",
       "      <td>0.551498</td>\n",
       "      <td>4</td>\n",
       "      <td>0.029373</td>\n",
       "    </tr>\n",
       "    <tr>\n",
       "      <th>...</th>\n",
       "      <td>...</td>\n",
       "      <td>...</td>\n",
       "      <td>...</td>\n",
       "      <td>...</td>\n",
       "      <td>...</td>\n",
       "      <td>...</td>\n",
       "      <td>...</td>\n",
       "      <td>...</td>\n",
       "      <td>...</td>\n",
       "      <td>...</td>\n",
       "      <td>...</td>\n",
       "      <td>...</td>\n",
       "      <td>...</td>\n",
       "      <td>...</td>\n",
       "    </tr>\n",
       "    <tr>\n",
       "      <th>5007</th>\n",
       "      <td>875107.0</td>\n",
       "      <td>89.0595\\t31.5\\n105.0334\\t1.8\\n133.086\\t33.5\\n1...</td>\n",
       "      <td>2-Hydroxy-4-(octyloxyl)benzophenone</td>\n",
       "      <td>327.1955</td>\n",
       "      <td>[M+H]+</td>\n",
       "      <td>CCCCCCCCOc1ccc(C(=O)c2ccccc2)c(O)c1</td>\n",
       "      <td>NIST Mass Spectrometry Data Center</td>\n",
       "      <td>C21H26N2O4</td>\n",
       "      <td>1.0</td>\n",
       "      <td>85.06563\\t557.0\\n89.05976\\t18084.0\\n133.08588\\...</td>\n",
       "      <td>0.578705</td>\n",
       "      <td>0.587774</td>\n",
       "      <td>5017</td>\n",
       "      <td>0.009068</td>\n",
       "    </tr>\n",
       "    <tr>\n",
       "      <th>5008</th>\n",
       "      <td>875107.0</td>\n",
       "      <td>89.0595\\t31.5\\n105.0334\\t1.8\\n133.086\\t33.5\\n1...</td>\n",
       "      <td>2-Hydroxy-4-(octyloxyl)benzophenone</td>\n",
       "      <td>327.1955</td>\n",
       "      <td>[M+H]+</td>\n",
       "      <td>CCCCCCCCOc1ccc(C(=O)c2ccccc2)c(O)c1</td>\n",
       "      <td>NIST Mass Spectrometry Data Center</td>\n",
       "      <td>C21H26N2O4</td>\n",
       "      <td>1.0</td>\n",
       "      <td>54.03349\\t9330.0\\n58.0654\\t18201.0\\n59.05025\\t...</td>\n",
       "      <td>0.308383</td>\n",
       "      <td>0.334888</td>\n",
       "      <td>5018</td>\n",
       "      <td>0.026505</td>\n",
       "    </tr>\n",
       "    <tr>\n",
       "      <th>5009</th>\n",
       "      <td>844240.0</td>\n",
       "      <td>93.0337\\t1.8\\n95.0493\\t1.4\\n109.0287\\t1.6\\n121...</td>\n",
       "      <td>Rhamnetin</td>\n",
       "      <td>317.0656</td>\n",
       "      <td>[M+H]+</td>\n",
       "      <td>COc1cc(O)c2c(=O)c(O)c(-c3ccc(O)c(O)c3)oc2c1</td>\n",
       "      <td>NIST Mass Spectrometry Data Center</td>\n",
       "      <td>C16H12N2O8</td>\n",
       "      <td>1.0</td>\n",
       "      <td>85.06426\\t472.0\\n89.02425\\t171.0\\n96.08056\\t22...</td>\n",
       "      <td>0.261822</td>\n",
       "      <td>0.317663</td>\n",
       "      <td>5019</td>\n",
       "      <td>0.055841</td>\n",
       "    </tr>\n",
       "    <tr>\n",
       "      <th>5010</th>\n",
       "      <td>563907.0</td>\n",
       "      <td>56.0492\\t17.7\\n59.9899\\t32.5\\n65.0383\\t5.0\\n67...</td>\n",
       "      <td>4-Phenyl-1,2,3,4,5,6,7,8-octahydroquinazoline-...</td>\n",
       "      <td>245.1107</td>\n",
       "      <td>[M+H]+</td>\n",
       "      <td>S=C1NC2=C(CCCC2)C(c2ccccc2)N1</td>\n",
       "      <td>NIST Mass Spectrometry Data Center</td>\n",
       "      <td>C14H16N4OS</td>\n",
       "      <td>1.0</td>\n",
       "      <td>59.0603\\t1638.0\\n91.03072\\t2675.0\\n119.08614\\t...</td>\n",
       "      <td>0.215397</td>\n",
       "      <td>0.233066</td>\n",
       "      <td>5020</td>\n",
       "      <td>0.017669</td>\n",
       "    </tr>\n",
       "    <tr>\n",
       "      <th>5011</th>\n",
       "      <td>949079.0</td>\n",
       "      <td>144.0808\\t15.661109\\n212.1281\\t11.350578\\n224....</td>\n",
       "      <td>Yohimbine</td>\n",
       "      <td>355.2016</td>\n",
       "      <td>[M+H]+</td>\n",
       "      <td>COC(=O)[C@H]1[C@H](CC[C@@H]2[C@@H]1C[C@H]3c4c(...</td>\n",
       "      <td>\"SMILES=COC(=O)[C@H]1[C@H](CC[C@@H]2[C@@H]1C[C...</td>\n",
       "      <td>C21H26N4O4</td>\n",
       "      <td>1.0</td>\n",
       "      <td>59.06012\\t390.0\\n69.07006\\t1313.0\\n73.04679\\t5...</td>\n",
       "      <td>0.646978</td>\n",
       "      <td>0.666023</td>\n",
       "      <td>5021</td>\n",
       "      <td>0.019044</td>\n",
       "    </tr>\n",
       "  </tbody>\n",
       "</table>\n",
       "<p>5012 rows × 14 columns</p>\n",
       "</div>"
      ],
      "text/plain": [
       "        lib_id                                           spectrum  \\\n",
       "0     205079.0                    148.1119\\t85.8\\n166.1223\\t999.0   \n",
       "1     323861.0  55.0543\\t4.1\\n57.0699\\t2.8\\n67.054\\t7.7\\n69.06...   \n",
       "2     627445.0  55.0178\\t4.4\\n55.0541\\t42.8\\n57.0698\\t13.2\\n67...   \n",
       "3     655980.0  60.0807\\t11.0\\n73.076\\t1.0\\n85.076\\t1.5\\n95.06...   \n",
       "4     510529.0  55.0544\\t5.8\\n83.0493\\t191.5\\n84.0526\\t4.7\\n91...   \n",
       "...        ...                                                ...   \n",
       "5007  875107.0  89.0595\\t31.5\\n105.0334\\t1.8\\n133.086\\t33.5\\n1...   \n",
       "5008  875107.0  89.0595\\t31.5\\n105.0334\\t1.8\\n133.086\\t33.5\\n1...   \n",
       "5009  844240.0  93.0337\\t1.8\\n95.0493\\t1.4\\n109.0287\\t1.6\\n121...   \n",
       "5010  563907.0  56.0492\\t17.7\\n59.9899\\t32.5\\n65.0383\\t5.0\\n67...   \n",
       "5011  949079.0  144.0808\\t15.661109\\n212.1281\\t11.350578\\n224....   \n",
       "\n",
       "                                                   Name  PrecursorMZ  \\\n",
       "0                                   (-)-Pseudoephedrine     166.1226   \n",
       "1                                         Jasmonic acid     193.1223   \n",
       "2                                           Albocycline     259.1693   \n",
       "3     6,6-Dimethylbicyclo[3.1.1]hept-2-ene-2-carbald...     266.1685   \n",
       "4     6-(4-Hydroxy-3-methylphenyl)-2-methylhept-2-en...     233.1536   \n",
       "...                                                 ...          ...   \n",
       "5007                2-Hydroxy-4-(octyloxyl)benzophenone     327.1955   \n",
       "5008                2-Hydroxy-4-(octyloxyl)benzophenone     327.1955   \n",
       "5009                                          Rhamnetin     317.0656   \n",
       "5010  4-Phenyl-1,2,3,4,5,6,7,8-octahydroquinazoline-...     245.1107   \n",
       "5011                                          Yohimbine     355.2016   \n",
       "\n",
       "     Precursor_type                                             SMILES  \\\n",
       "0            [M+H]+                                 CNC(C)C(O)c1ccccc1   \n",
       "1        [M+H-H2O]+                           CCC=CCC1C(=O)CCC1CC(=O)O   \n",
       "2      [M+H-CH6O2]+             COC1C=CC(C)(O)C=CC(=O)OC(C)C(C)CCC=C1C   \n",
       "3            [M+H]+                    CC(C)NC(=S)NN=CC1=CCC2CC1C2(C)C   \n",
       "4            [M+H]+                    CC(C)=CC(=O)CC(C)c1ccc(O)c(C)c1   \n",
       "...             ...                                                ...   \n",
       "5007         [M+H]+                CCCCCCCCOc1ccc(C(=O)c2ccccc2)c(O)c1   \n",
       "5008         [M+H]+                CCCCCCCCOc1ccc(C(=O)c2ccccc2)c(O)c1   \n",
       "5009         [M+H]+        COc1cc(O)c2c(=O)c(O)c(-c3ccc(O)c(O)c3)oc2c1   \n",
       "5010         [M+H]+                      S=C1NC2=C(CCCC2)C(c2ccccc2)N1   \n",
       "5011         [M+H]+  COC(=O)[C@H]1[C@H](CC[C@@H]2[C@@H]1C[C@H]3c4c(...   \n",
       "\n",
       "                                               Comments processed_formulas  \\\n",
       "0                    NIST Mass Spectrometry Data Center         C10H15N3O2   \n",
       "1                    NIST Mass Spectrometry Data Center           C12H16O2   \n",
       "2                    NIST Mass Spectrometry Data Center           C17H22O2   \n",
       "3                    NIST Mass Spectrometry Data Center          C14H23N3S   \n",
       "4                    NIST Mass Spectrometry Data Center         C15H20N2O3   \n",
       "...                                                 ...                ...   \n",
       "5007                 NIST Mass Spectrometry Data Center         C21H26N2O4   \n",
       "5008                 NIST Mass Spectrometry Data Center         C21H26N2O4   \n",
       "5009                 NIST Mass Spectrometry Data Center         C16H12N2O8   \n",
       "5010                 NIST Mass Spectrometry Data Center         C14H16N4OS   \n",
       "5011  \"SMILES=COC(=O)[C@H]1[C@H](CC[C@@H]2[C@@H]1C[C...         C21H26N4O4   \n",
       "\n",
       "      charge                                      msms_denoised  entropy_raw  \\\n",
       "0        1.0  77.03851\\t288.0\\n82.06471\\t222.0\\n108.08086\\t5...     0.567025   \n",
       "1        1.0  69.06957\\t617.0\\n79.05421\\t1407.0\\n92.05818\\t4...     0.550193   \n",
       "2        1.0  57.06985\\t59115.0\\n65.09762\\t768.0\\n91.05431\\t...     0.352207   \n",
       "3        1.0  58.0645\\t88.0\\n68.04918\\t48.0\\n97.10242\\t54.0\\...     0.160939   \n",
       "4        1.0  52.0179\\t258.0\\n55.0539\\t926.0\\n59.05997\\t806....     0.522126   \n",
       "...      ...                                                ...          ...   \n",
       "5007     1.0  85.06563\\t557.0\\n89.05976\\t18084.0\\n133.08588\\...     0.578705   \n",
       "5008     1.0  54.03349\\t9330.0\\n58.0654\\t18201.0\\n59.05025\\t...     0.308383   \n",
       "5009     1.0  85.06426\\t472.0\\n89.02425\\t171.0\\n96.08056\\t22...     0.261822   \n",
       "5010     1.0  59.0603\\t1638.0\\n91.03072\\t2675.0\\n119.08614\\t...     0.215397   \n",
       "5011     1.0  59.06012\\t390.0\\n69.07006\\t1313.0\\n73.04679\\t5...     0.646978   \n",
       "\n",
       "      entropy_denoised  label  entropy_offset  \n",
       "0             0.667217      0        0.100191  \n",
       "1             0.633821      1        0.083628  \n",
       "2             0.365202      2        0.012995  \n",
       "3             0.219588      3        0.058650  \n",
       "4             0.551498      4        0.029373  \n",
       "...                ...    ...             ...  \n",
       "5007          0.587774   5017        0.009068  \n",
       "5008          0.334888   5018        0.026505  \n",
       "5009          0.317663   5019        0.055841  \n",
       "5010          0.233066   5020        0.017669  \n",
       "5011          0.666023   5021        0.019044  \n",
       "\n",
       "[5012 rows x 14 columns]"
      ]
     },
     "execution_count": 49,
     "metadata": {},
     "output_type": "execute_result"
    }
   ],
   "source": [
    "sd.entropy_similairty(query_spectra.iloc[3251]['peaks'],str_to_arr(old.loc[3249]['spectrum']), pmz =185.1325)"
   ]
  }
 ],
 "metadata": {
  "kernelspec": {
   "display_name": "test_env",
   "language": "python",
   "name": "python3"
  },
  "language_info": {
   "codemirror_mode": {
    "name": "ipython",
    "version": 3
   },
   "file_extension": ".py",
   "mimetype": "text/x-python",
   "name": "python",
   "nbconvert_exporter": "python",
   "pygments_lexer": "ipython3",
   "version": "3.12.5"
  }
 },
 "nbformat": 4,
 "nbformat_minor": 2
}
