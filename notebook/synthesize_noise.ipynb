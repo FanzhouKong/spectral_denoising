{
 "cells": [
  {
   "cell_type": "code",
   "execution_count": 17,
   "metadata": {},
   "outputs": [
    {
     "name": "stdout",
     "output_type": "stream",
     "text": [
      "The autoreload extension is already loaded. To reload it, use:\n",
      "  %reload_ext autoreload\n",
      "done read in df...\n"
     ]
    }
   ],
   "source": [
    "import pandas as pd\n",
    "import sys\n",
    "import os\n",
    "sys.path.insert(0, '..')\n",
    "from tqdm import tqdm\n",
    "import spectral_denoising as sd\n",
    "from spectral_denoising.noise import *\n",
    "from spectral_denoising.file_io import read_df, save_df\n",
    "from tqdm import tqdm\n",
    "%load_ext autoreload\n",
    "%autoreload 2\n",
    "master_dir = '/Users/fanzhoukong/Documents/GitHub/Libgen_data/dilution_series_data'\n",
    "formula_db = pd.read_csv('/Users/fanzhoukong/Documents/GitHub/Libgen_data/formula_db/formulaDB_sorted.csv')\n",
    "output_dir = '/Users/fanzhoukong/Documents/GitHub/Libgen_data/dilution_series_data/synthetic_data'\n",
    "data = read_df(os.path.join(master_dir, 'dilution_mapped_unprocessed.csv'))"
   ]
  },
  {
   "cell_type": "code",
   "execution_count": null,
   "metadata": {},
   "outputs": [],
   "source": [
    "from itertools import product\n",
    "chemical_lamda = 50\n",
    "electric_lamda = 5\n",
    "chemcial_abundant = [0.1,0.2,0.5]\n",
    "electric_abundant = [2,10,100]\n",
    "combinations = product(chemcial_abundant, electric_abundant)\n",
    "for combination in (combinations):\n",
    "    #first always chemical\n",
    "    msms_conts_all = []\n",
    "    chemical_ratio = combination[0]\n",
    "    electri_ratio = combination[1]\n",
    "    data_current = data.copy()\n",
    "\n",
    "    for index, row in tqdm(data_current.iterrows(), total = len(data_current)):\n",
    "        num_peaks = len(row['peaks'])\n",
    "        noise_chemical = generate_chemical_noise(row['precursor_mz'],chemical_lamda, row['adduct'][-1], formula_db=formula_db, n = np.int64(np.ceil(chemical_ratio*num_peaks)))\n",
    "        noise_electric = generate_noise(row['precursor_mz'], electric_lamda, n = np.int64(np.ceil(electri_ratio*num_peaks)))\n",
    "        msms_cont_row = add_noise(row['peaks'], noise_chemical, )\n",
    "        msms_cont_row = add_noise(msms_cont_row, noise_electric)\n",
    "        msms_conts_all.append(msms_cont_row)\n",
    "    data_current['msms_cont']=msms_conts_all\n",
    "    data_current['entropy_cont_raw'] = [sd.entropy_similairty(data_current['msms_cont'].iloc[i], data_current['library_peaks'].iloc[i], data_current['precursor_mz'].iloc[i]) for i in range(len(data_current))]\n",
    "    save_df(data_current, os.path.join(output_dir, 'synthetic_noise_sn_'+str(chemical_ratio)+'_'+str(electri_ratio)+'.csv'))"
   ]
  }
 ],
 "metadata": {
  "kernelspec": {
   "display_name": "new_env2",
   "language": "python",
   "name": "python3"
  },
  "language_info": {
   "codemirror_mode": {
    "name": "ipython",
    "version": 3
   },
   "file_extension": ".py",
   "mimetype": "text/x-python",
   "name": "python",
   "nbconvert_exporter": "python",
   "pygments_lexer": "ipython3",
   "version": "3.12.0"
  }
 },
 "nbformat": 4,
 "nbformat_minor": 2
}
