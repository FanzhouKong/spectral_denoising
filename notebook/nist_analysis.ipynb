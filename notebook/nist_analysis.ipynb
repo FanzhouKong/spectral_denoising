{
 "cells": [
  {
   "cell_type": "code",
   "execution_count": 11,
   "metadata": {
    "collapsed": true,
    "pycharm": {
     "name": "#%%\n"
    }
   },
   "outputs": [
    {
     "name": "stdout",
     "output_type": "stream",
     "text": [
      "The autoreload extension is already loaded. To reload it, use:\n",
      "  %reload_ext autoreload\n"
     ]
    }
   ],
   "source": [
    "import pandas as pd\n",
    "import sys\n",
    "import os\n",
    "import numpy as np\n",
    "sys.path.insert(0, '..')\n",
    "import seaborn as sns\n",
    "import matplotlib.pyplot as plt\n",
    "import spectral_denoising as sd\n",
    "from spectral_denoising.search_utils import *\n",
    "from spectral_denoising.file_io import read_df, save_df\n",
    "from spectral_denoising.spectral_operations import *\n",
    "from spectral_denoising.spectral_denoising import *\n",
    "from spectral_denoising.spectra_plotter import *\n",
    "from spectral_denoising.seven_golden_rules import *\n",
    "%load_ext autoreload\n",
    "%autoreload 2\n",
    "fig_dir = '/Users/fanzhoukong/Documents/GitHub/Libgen_data/dilution_series_data/new_figss'\n",
    "if os.path.exists(fig_dir) == False:\n",
    "    os.mkdir(fig_dir)\n",
    "from tqdm import tqdm\n",
    "import seaborn as sns\n",
    "import matplotlib.pyplot as plt"
   ]
  },
  {
   "cell_type": "code",
   "execution_count": 5,
   "metadata": {
    "collapsed": false,
    "pycharm": {
     "name": "#%%\n"
    }
   },
   "outputs": [],
   "source": [
    "def calculate_overall_count(arrays):\n",
    "    \"\"\"\n",
    "    Function to calculate the overall count of frequency counts across multiple arrays.\n",
    "    \n",
    "    Parameters:\n",
    "    - arrays: A list of lists, where each inner list is an array of numbers.\n",
    "    \n",
    "    Returns:\n",
    "    - A DataFrame with the overall frequency count information across all arrays.\n",
    "    \"\"\"\n",
    "\n",
    "    overall_frequency_counts = {}\n",
    "\n",
    "    # Iterate through each array\n",
    "    for arr in tqdm(arrays):\n",
    "        # Calculate frequency of each number in the current array\n",
    "        frequency = {}\n",
    "        for num in arr:\n",
    "            frequency[num] = frequency.get(num, 0) + 1\n",
    "\n",
    "        # Calculate how many times each frequency occurs in the current array\n",
    "        frequency_counts = {}\n",
    "        for freq in frequency.values():\n",
    "            frequency_counts[freq] = frequency_counts.get(freq, 0) + 1\n",
    "\n",
    "        # Update overall frequency counts\n",
    "        for freq, count in frequency_counts.items():\n",
    "            overall_frequency_counts[freq] = overall_frequency_counts.get(freq, 0) + count\n",
    "\n",
    "    # Create DataFrame from the overall frequency counts\n",
    "    df_overall = pd.DataFrame(list(overall_frequency_counts.items()), columns=['Frequency', 'Count'])\n",
    "\n",
    "    return df_overall"
   ]
  },
  {
   "cell_type": "code",
   "execution_count": null,
   "metadata": {
    "collapsed": false,
    "pycharm": {
     "name": "#%%\n"
    }
   },
   "outputs": [
    {
     "name": "stdout",
     "output_type": "stream",
     "text": [
      "done read in df...\n"
     ]
    }
   ],
   "source": [
    "library_dir = '/Users/fanzhoukong/Documents/GitHub/Libgen_data/curated_library/csv'\n",
    "nist_pos = read_df(os.path.join(library_dir, 'pos_orbi_nist.csv'))\n",
    "nist_pos_sampled = read_df(os.path.join(library_dir, 'pos_orbi_nist_sampled.csv'))"
   ]
  },
  {
   "cell_type": "code",
   "execution_count": 8,
   "metadata": {
    "collapsed": false,
    "pycharm": {
     "name": "#%%\n"
    }
   },
   "outputs": [],
   "source": [
    "nist_pos_sampled.dropna(subset='smiles',inplace=True)"
   ]
  },
  {
   "cell_type": "code",
   "execution_count": null,
   "metadata": {
    "collapsed": false,
    "pycharm": {
     "name": "#%%\n"
    }
   },
   "outputs": [
    {
     "name": "stderr",
     "output_type": "stream",
     "text": [
      "100%|██████████| 9749/9749 [03:49<00:00, 42.53it/s]\n"
     ]
    },
    {
     "name": "stdout",
     "output_type": "stream",
     "text": [
      "the mean entropy similarity is 0.9938305099947614\n"
     ]
    }
   ],
   "source": [
    "msms_d = sd.spectral_denoising_batch(nist_pos_sampled['peaks'], nist_pos_sampled['smiles'], nist_pos_sampled['adduct'])\n",
    "simi = []\n",
    "for i in range(len(msms_d)):\n",
    "    simi.append(entropy_similairty(msms_d[i], nist_pos_sampled.iloc[i]['peaks'], pmz=nist_pos_sampled.iloc[i]['precursor_mz']))\n",
    "print(f'the mean entropy similarity is {np.nanmean(simi)}')"
   ]
  },
  {
   "cell_type": "code",
   "execution_count": 16,
   "metadata": {
    "collapsed": false,
    "pycharm": {
     "name": "#%%\n"
    }
   },
   "outputs": [
    {
     "data": {
      "image/png": "[encoded data removed]",
      "text/plain": [
       "<Figure size 600x400 with 1 Axes>"
      ]
     },
     "metadata": {},
     "output_type": "display_data"
    }
   ],
   "source": [
    "fig = plt.figure(figsize = (6, 4))#43\n",
    "ax = fig.add_subplot()\n",
    "#\n",
    "\n",
    "ax= sns.histplot(simi, bins=1000)\n",
    "# plt.xticks(df_statistc['Frequency'])\n",
    "# ax.get_lines()[0].remove()\n",
    "# plt.xlim(0, 100)\n",
    "ax.set_xlabel('Entropy similarity',size = 12)\n",
    "ax.set_ylabel('Spectra count', size = 12)\n",
    "ax.set_xlim(0.9,1)\n",
    "\n",
    "# plt.setp(ax.patches, linewidth=1)\n",
    "# ax.set_frame_on(True)\n",
    "# ax.set_ylim(0,1)\n",
    "# plt.axvline(4, color = 'orange', linestyle = '--')\n",
    "# sns.lineplot(x = range(1,14), y = ns_means)\n",
    "# sns.histplot(library_bad_quality['normalized_entropy'], label = 'low_quality')\n",
    "# plt.vlines(x = 0.8, ymin=0, ymax=250, color = 'red')\n",
    "ax.grid(False)\n",
    "ax.set_facecolor(\"white\")\n",
    "ax.spines['left'].set_color('#313131')\n",
    "ax.spines['bottom'].set_color('#313131')\n",
    "# sns.despine(bottom = True, left = True)\n",
    "# plt.savefig(os.path.join(library_dir, 'spectral_denoising_validation.png'))"
   ]
  },
  {
   "cell_type": "code",
   "execution_count": 49,
   "metadata": {
    "collapsed": false,
    "pycharm": {
     "name": "#%%\n"
    }
   },
   "outputs": [
    {
     "name": "stderr",
     "output_type": "stream",
     "text": [
      "100%|██████████| 1283801/1283801 [01:08<00:00, 18633.74it/s]\n"
     ]
    }
   ],
   "source": [
    "nested_array = []\n",
    "for index, row in tqdm(nist_pos.iterrows(), total = len(nist_pos)):\n",
    "    mass, intensity = so.break_spectra(so.truncate_spectrum(row['spectrum'], row['PrecursorMZ']-1.6))\n",
    "    if isinstance(intensity, float) is False:\n",
    "        nested_array.append(intensity)"
   ]
  },
  {
   "cell_type": "code",
   "execution_count": 50,
   "metadata": {
    "collapsed": false,
    "pycharm": {
     "name": "#%%\n"
    }
   },
   "outputs": [
    {
     "name": "stderr",
     "output_type": "stream",
     "text": [
      "100%|██████████| 1283801/1283801 [00:11<00:00, 113042.59it/s]\n"
     ]
    }
   ],
   "source": [
    "df_statistc = calculate_overall_count(nested_array)"
   ]
  },
  {
   "cell_type": "code",
   "execution_count": 70,
   "metadata": {
    "collapsed": false,
    "pycharm": {
     "name": "#%%\n"
    }
   },
   "outputs": [],
   "source": [
    "import textwrap\n",
    "def wrap_labels(ax, width, break_long_words=False):\n",
    "    labels = []\n",
    "    for label in ax.get_ylabel():\n",
    "        text = label\n",
    "        labels.append(textwrap.fill(text, width=width,\n",
    "                                    break_long_words=break_long_words))\n",
    "    ax.set_xticklabels(labels, rotation=0)"
   ]
  },
  {
   "cell_type": "code",
   "execution_count": 76,
   "metadata": {
    "collapsed": false,
    "pycharm": {
     "name": "#%%\n"
    }
   },
   "outputs": [
    {
     "data": {
      "image/png": "[encoded data removed]",
      "text/plain": [
       "<Figure size 600x400 with 1 Axes>"
      ]
     },
     "metadata": {},
     "output_type": "display_data"
    }
   ],
   "source": [
    "fig = plt.figure(figsize = (6, 4))#43\n",
    "# ax = fig.add_subplot()\n",
    "#\n",
    "\n",
    "ax= sns.lineplot(data=df_statistc, x=\"Frequency\", y = 'Count')\n",
    "# plt.xticks(df_statistc['Frequency'])\n",
    "# ax.get_lines()[0].remove()\n",
    "# plt.xlim(0, 100)\n",
    "ax.set_ylabel('Count (1e7)',size = 12)\n",
    "ax.set_xlabel('Number of ions per spectrum with identical intensity', size = 12)\n",
    "ax.set_xlim(0, 10)\n",
    "plt.axvline(4, color = 'orange', linestyle = '--')\n",
    "# # sns.lineplot(x = range(1,14), y = ns_means)\n",
    "# # sns.histplot(library_bad_quality['normalized_entropy'], label = 'low_quality')\n",
    "# # plt.vlines(x = 0.8, ymin=0, ymax=250, color = 'red')\n",
    "# plt.grid(False)\n",
    "ax.set_facecolor(\"white\")\n",
    "# wrap_labels(ax, 6)\n",
    "ax.spines['left'].set_color('#313131')\n",
    "ax.spines['bottom'].set_color('#313131')\n",
    "plt.savefig(os.path.join(library_dir, 'frequency_counts.png'))\n",
    "# plt.legend(facecolor='white', loc = 'upper left')\n",
    "# ax.legend(facecolor='white', )"
   ]
  }
 ],
 "metadata": {
  "kernelspec": {
   "display_name": "alphapept_env",
   "language": "python",
   "name": "python3"
  },
  "language_info": {
   "codemirror_mode": {
    "name": "ipython",
    "version": 3
   },
   "file_extension": ".py",
   "mimetype": "text/x-python",
   "name": "python",
   "nbconvert_exporter": "python",
   "pygments_lexer": "ipython3",
   "version": "3.8.13"
  }
 },
 "nbformat": 4,
 "nbformat_minor": 0
}
