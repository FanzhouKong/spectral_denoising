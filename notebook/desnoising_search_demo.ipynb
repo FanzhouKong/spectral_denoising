{
 "cells": [
  {
   "cell_type": "code",
   "execution_count": 1,
   "metadata": {},
   "outputs": [],
   "source": [
    "%load_ext autoreload\n",
    "%autoreload 2\n",
    "import pandas as pd\n",
    "import spectral_denoising as sd"
   ]
  },
  {
   "cell_type": "markdown",
   "metadata": {},
   "source": [
    "# denoising search: single spectrum"
   ]
  },
  {
   "cell_type": "code",
   "execution_count": 2,
   "metadata": {},
   "outputs": [],
   "source": [
    "\n",
    "query_spectra= sd.read_msp('../sample_data/query_spectra.msp')\n",
    "reference_library =sd.read_msp('../sample_data/reference_library.msp')\n",
    "# query_spectrum, query_pmz = query_spectra.iloc[2]['peaks'], query_spectra.iloc[2]['precursor_mz']"
   ]
  },
  {
   "cell_type": "code",
   "execution_count": 3,
   "metadata": {},
   "outputs": [
    {
     "data": {
      "text/html": [
       "<div>\n",
       "<style scoped>\n",
       "    .dataframe tbody tr th:only-of-type {\n",
       "        vertical-align: middle;\n",
       "    }\n",
       "\n",
       "    .dataframe tbody tr th {\n",
       "        vertical-align: top;\n",
       "    }\n",
       "\n",
       "    .dataframe thead th {\n",
       "        text-align: right;\n",
       "    }\n",
       "</style>\n",
       "<table border=\"1\" class=\"dataframe\">\n",
       "  <thead>\n",
       "    <tr style=\"text-align: right;\">\n",
       "      <th></th>\n",
       "      <th>name</th>\n",
       "      <th>peaks</th>\n",
       "      <th>inchikey</th>\n",
       "      <th>smiles</th>\n",
       "      <th>precursor_mz</th>\n",
       "      <th>formula</th>\n",
       "      <th>adduct</th>\n",
       "      <th>ion_mode</th>\n",
       "      <th>spectrum_entropy</th>\n",
       "      <th>num peaks</th>\n",
       "      <th>master_formula</th>\n",
       "      <th>entropy_similarity</th>\n",
       "      <th>denoised_similarity</th>\n",
       "      <th>query_peaks</th>\n",
       "      <th>denoised_peaks</th>\n",
       "      <th>query_pmz</th>\n",
       "    </tr>\n",
       "  </thead>\n",
       "  <tbody>\n",
       "    <tr>\n",
       "      <th>0</th>\n",
       "      <td>Inosine</td>\n",
       "      <td>[[159.02952945655997, 1058.0], [291.0574836244...</td>\n",
       "      <td>UGQMRVRMYYASKQ-KQYNXXCUSA-N</td>\n",
       "      <td>O=c1[nH]cnc2c1ncn2[C@@H]1O[C@H](CO)[C@@H](O)[C...</td>\n",
       "      <td>291.069435</td>\n",
       "      <td>C10H12N4O5</td>\n",
       "      <td>[M+Na]+</td>\n",
       "      <td>P</td>\n",
       "      <td>0.871029</td>\n",
       "      <td>2</td>\n",
       "      <td>C10H12N4NaO5</td>\n",
       "      <td>0.591505</td>\n",
       "      <td>1.0</td>\n",
       "      <td>[[159.02952945655997, 1058.0], [291.0574836244...</td>\n",
       "      <td>[[159.02952945655997, 1058.0], [291.0574836244...</td>\n",
       "      <td>291.069435</td>\n",
       "    </tr>\n",
       "  </tbody>\n",
       "</table>\n",
       "</div>"
      ],
      "text/plain": [
       "      name                                              peaks  \\\n",
       "0  Inosine  [[159.02952945655997, 1058.0], [291.0574836244...   \n",
       "\n",
       "                      inchikey  \\\n",
       "0  UGQMRVRMYYASKQ-KQYNXXCUSA-N   \n",
       "\n",
       "                                              smiles  precursor_mz  \\\n",
       "0  O=c1[nH]cnc2c1ncn2[C@@H]1O[C@H](CO)[C@@H](O)[C...    291.069435   \n",
       "\n",
       "      formula   adduct ion_mode  spectrum_entropy  num peaks master_formula  \\\n",
       "0  C10H12N4O5  [M+Na]+        P          0.871029          2   C10H12N4NaO5   \n",
       "\n",
       "   entropy_similarity  denoised_similarity  \\\n",
       "0            0.591505                  1.0   \n",
       "\n",
       "                                         query_peaks  \\\n",
       "0  [[159.02952945655997, 1058.0], [291.0574836244...   \n",
       "\n",
       "                                      denoised_peaks   query_pmz  \n",
       "0  [[159.02952945655997, 1058.0], [291.0574836244...  291.069435  "
      ]
     },
     "execution_count": 3,
     "metadata": {},
     "output_type": "execute_result"
    }
   ],
   "source": [
    "query_peak, query_pmz = query_spectra.iloc[0]['peaks'], query_spectra.iloc[0]['precursor_mz']\n",
    "sd.denoising_search(query_peak, query_pmz, reference_library)"
   ]
  },
  {
   "cell_type": "markdown",
   "metadata": {},
   "source": [
    "# search in batch mode"
   ]
  },
  {
   "cell_type": "code",
   "execution_count": 4,
   "metadata": {},
   "outputs": [
    {
     "name": "stderr",
     "output_type": "stream",
     "text": [
      "100%|██████████| 565/565 [00:05<00:00, 104.88it/s]\n"
     ]
    }
   ],
   "source": [
    "import spectral_denoising as sd\n",
    "results = sd.denoising_search_batch(query_spectra['peaks'], query_spectra['precursor_mz'],reference_library)\n",
    "# this will return a lists of denoising search results\n",
    "# query_peaks: raw query peaks, query_peaks_denoised: raw query peaks denoised with the molecular information provided in reference library\n",
    "# entropy_similarity: similarity between raw query peak and library peaks; denoised_smilarity: similarity between denoised query peak and library peaks"
   ]
  },
  {
   "cell_type": "code",
   "execution_count": 5,
   "metadata": {},
   "outputs": [
    {
     "data": {
      "text/html": [
       "<div>\n",
       "<style scoped>\n",
       "    .dataframe tbody tr th:only-of-type {\n",
       "        vertical-align: middle;\n",
       "    }\n",
       "\n",
       "    .dataframe tbody tr th {\n",
       "        vertical-align: top;\n",
       "    }\n",
       "\n",
       "    .dataframe thead th {\n",
       "        text-align: right;\n",
       "    }\n",
       "</style>\n",
       "<table border=\"1\" class=\"dataframe\">\n",
       "  <thead>\n",
       "    <tr style=\"text-align: right;\">\n",
       "      <th></th>\n",
       "      <th>name</th>\n",
       "      <th>peaks</th>\n",
       "      <th>inchikey</th>\n",
       "      <th>smiles</th>\n",
       "      <th>precursor_mz</th>\n",
       "      <th>formula</th>\n",
       "      <th>adduct</th>\n",
       "      <th>ion_mode</th>\n",
       "      <th>spectrum_entropy</th>\n",
       "      <th>num peaks</th>\n",
       "      <th>master_formula</th>\n",
       "      <th>entropy_similarity</th>\n",
       "      <th>denoised_similarity</th>\n",
       "      <th>query_peaks</th>\n",
       "      <th>denoised_peaks</th>\n",
       "      <th>query_pmz</th>\n",
       "    </tr>\n",
       "  </thead>\n",
       "  <tbody>\n",
       "    <tr>\n",
       "      <th>6</th>\n",
       "      <td>Tryptamine</td>\n",
       "      <td>[[41.03969154223268, 92.0], [51.02379846691544...</td>\n",
       "      <td>APJYDQYYACXCRM-UHFFFAOYSA-N</td>\n",
       "      <td>NCCc1c[nH]c2ccccc12</td>\n",
       "      <td>161.107275</td>\n",
       "      <td>C10H12N2</td>\n",
       "      <td>[M+H]+</td>\n",
       "      <td>P</td>\n",
       "      <td>2.460416</td>\n",
       "      <td>35</td>\n",
       "      <td>C10H12N4O</td>\n",
       "      <td>0.992100</td>\n",
       "      <td>1.000000</td>\n",
       "      <td>[[41.03969154223268, 92.0], [51.02379846691544...</td>\n",
       "      <td>[[41.03969154223268, 92.0], [51.02379846691544...</td>\n",
       "      <td>161.107275</td>\n",
       "    </tr>\n",
       "    <tr>\n",
       "      <th>419</th>\n",
       "      <td>(R,S)-Anatabine</td>\n",
       "      <td>[[53.0386194304298, 258.0], [65.03724407409943...</td>\n",
       "      <td>SOPPBXUYQGUQHE-UHFFFAOYSA-N</td>\n",
       "      <td>C1=CCC(c2cccnc2)NC1</td>\n",
       "      <td>161.105909</td>\n",
       "      <td>C10H12N2</td>\n",
       "      <td>[M+H]+</td>\n",
       "      <td>P</td>\n",
       "      <td>3.191440</td>\n",
       "      <td>29</td>\n",
       "      <td>C10H12N2</td>\n",
       "      <td>0.776468</td>\n",
       "      <td>0.776617</td>\n",
       "      <td>[[41.03969154223268, 92.0], [51.02379846691544...</td>\n",
       "      <td>[[41.03969154223268, 92.0], [51.02379846691544...</td>\n",
       "      <td>161.107275</td>\n",
       "    </tr>\n",
       "    <tr>\n",
       "      <th>420</th>\n",
       "      <td>(R,S)-Anatabine</td>\n",
       "      <td>[[80.04740966006518, 757.0], [82.0651034105826...</td>\n",
       "      <td>SOPPBXUYQGUQHE-UHFFFAOYSA-N</td>\n",
       "      <td>C1=CCC(c2cccnc2)NC1</td>\n",
       "      <td>161.104730</td>\n",
       "      <td>C10H12N2</td>\n",
       "      <td>[M+H]+</td>\n",
       "      <td>P</td>\n",
       "      <td>3.246693</td>\n",
       "      <td>9</td>\n",
       "      <td>C10H12N2</td>\n",
       "      <td>0.638592</td>\n",
       "      <td>0.641366</td>\n",
       "      <td>[[41.03969154223268, 92.0], [51.02379846691544...</td>\n",
       "      <td>[[41.03969154223268, 92.0], [51.02379846691544...</td>\n",
       "      <td>161.107275</td>\n",
       "    </tr>\n",
       "  </tbody>\n",
       "</table>\n",
       "</div>"
      ],
      "text/plain": [
       "                name                                              peaks  \\\n",
       "6         Tryptamine  [[41.03969154223268, 92.0], [51.02379846691544...   \n",
       "419  (R,S)-Anatabine  [[53.0386194304298, 258.0], [65.03724407409943...   \n",
       "420  (R,S)-Anatabine  [[80.04740966006518, 757.0], [82.0651034105826...   \n",
       "\n",
       "                        inchikey               smiles  precursor_mz   formula  \\\n",
       "6    APJYDQYYACXCRM-UHFFFAOYSA-N  NCCc1c[nH]c2ccccc12    161.107275  C10H12N2   \n",
       "419  SOPPBXUYQGUQHE-UHFFFAOYSA-N  C1=CCC(c2cccnc2)NC1    161.105909  C10H12N2   \n",
       "420  SOPPBXUYQGUQHE-UHFFFAOYSA-N  C1=CCC(c2cccnc2)NC1    161.104730  C10H12N2   \n",
       "\n",
       "     adduct ion_mode  spectrum_entropy  num peaks master_formula  \\\n",
       "6    [M+H]+        P          2.460416         35      C10H12N4O   \n",
       "419  [M+H]+        P          3.191440         29       C10H12N2   \n",
       "420  [M+H]+        P          3.246693          9       C10H12N2   \n",
       "\n",
       "     entropy_similarity  denoised_similarity  \\\n",
       "6              0.992100             1.000000   \n",
       "419            0.776468             0.776617   \n",
       "420            0.638592             0.641366   \n",
       "\n",
       "                                           query_peaks  \\\n",
       "6    [[41.03969154223268, 92.0], [51.02379846691544...   \n",
       "419  [[41.03969154223268, 92.0], [51.02379846691544...   \n",
       "420  [[41.03969154223268, 92.0], [51.02379846691544...   \n",
       "\n",
       "                                        denoised_peaks   query_pmz  \n",
       "6    [[41.03969154223268, 92.0], [51.02379846691544...  161.107275  \n",
       "419  [[41.03969154223268, 92.0], [51.02379846691544...  161.107275  \n",
       "420  [[41.03969154223268, 92.0], [51.02379846691544...  161.107275  "
      ]
     },
     "execution_count": 5,
     "metadata": {},
     "output_type": "execute_result"
    }
   ],
   "source": [
    "results[6]"
   ]
  },
  {
   "cell_type": "code",
   "execution_count": 59,
   "metadata": {},
   "outputs": [],
   "source": [
    "sd.export_denoising_searches(results, 'denoising_results', top_n=1)\n",
    "# then you can export the results to a msp files, each file contains all candidate spectra with entropy similarities.\n",
    "# top_n: number of top candidates to be exported"
   ]
  }
 ],
 "metadata": {
  "kernelspec": {
   "display_name": "test_env",
   "language": "python",
   "name": "python3"
  },
  "language_info": {
   "codemirror_mode": {
    "name": "ipython",
    "version": 3
   },
   "file_extension": ".py",
   "mimetype": "text/x-python",
   "name": "python",
   "nbconvert_exporter": "python",
   "pygments_lexer": "ipython3",
   "version": "3.12.5"
  }
 },
 "nbformat": 4,
 "nbformat_minor": 2
}
