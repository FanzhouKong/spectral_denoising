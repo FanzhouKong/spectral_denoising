{
 "cells": [
  {
   "cell_type": "code",
   "execution_count": 62,
   "metadata": {},
   "outputs": [
    {
     "name": "stdout",
     "output_type": "stream",
     "text": [
      "The autoreload extension is already loaded. To reload it, use:\n",
      "  %reload_ext autoreload\n"
     ]
    }
   ],
   "source": [
    "%load_ext autoreload\n",
    "%autoreload 2\n",
    "import pandas as pd\n",
    "import spectral_denoising as sd"
   ]
  },
  {
   "cell_type": "markdown",
   "metadata": {},
   "source": [
    "# denoising search: single spectrum"
   ]
  },
  {
   "cell_type": "code",
   "execution_count": 63,
   "metadata": {},
   "outputs": [
    {
     "name": "stderr",
     "output_type": "stream",
     "text": [
      "/opt/homebrew/Caskroom/miniforge/base/envs/test_env/lib/python3.12/site-packages/spectral_denoising/file_io.py:61: FutureWarning: errors='ignore' is deprecated and will raise in a future version. Use to_numeric without passing `errors` and catch exceptions explicitly instead\n",
      "  df[column] = pd.to_numeric(df[column], errors='ignore')\n"
     ]
    }
   ],
   "source": [
    "query_spectra= sd.read_msp('../sample_data/query_spectra.msp')\n",
    "reference_library =sd.read_msp('../sample_data/reference_library.msp')\n",
    "query_spectrum, query_pmz = query_spectra.iloc[0]['peaks'], query_spectra.iloc[0]['precursor_mz']"
   ]
  },
  {
   "cell_type": "code",
   "execution_count": 64,
   "metadata": {},
   "outputs": [
    {
     "data": {
      "text/html": [
       "<div>\n",
       "<style scoped>\n",
       "    .dataframe tbody tr th:only-of-type {\n",
       "        vertical-align: middle;\n",
       "    }\n",
       "\n",
       "    .dataframe tbody tr th {\n",
       "        vertical-align: top;\n",
       "    }\n",
       "\n",
       "    .dataframe thead th {\n",
       "        text-align: right;\n",
       "    }\n",
       "</style>\n",
       "<table border=\"1\" class=\"dataframe\">\n",
       "  <thead>\n",
       "    <tr style=\"text-align: right;\">\n",
       "      <th></th>\n",
       "      <th>name</th>\n",
       "      <th>cas</th>\n",
       "      <th>adduct</th>\n",
       "      <th>smiles</th>\n",
       "      <th>precursor_mz</th>\n",
       "      <th>query_peaks</th>\n",
       "      <th>query_peaks_denoised</th>\n",
       "      <th>entropy_similarity</th>\n",
       "      <th>denoised_similarity</th>\n",
       "    </tr>\n",
       "  </thead>\n",
       "  <tbody>\n",
       "    <tr>\n",
       "      <th>0</th>\n",
       "      <td>Inosine</td>\n",
       "      <td>58-63-9</td>\n",
       "      <td>[M+Na]+</td>\n",
       "      <td>O=c1[nH]cnc2c1ncn2[C@@H]1O[C@H](CO)[C@@H](O)[C...</td>\n",
       "      <td>291.069435</td>\n",
       "      <td>[[55.05794906616211, 26.0], [60.98749923706055...</td>\n",
       "      <td>[[159.02952575683594, 1058.0], [291.0574951171...</td>\n",
       "      <td>0.591505</td>\n",
       "      <td>1.0</td>\n",
       "    </tr>\n",
       "  </tbody>\n",
       "</table>\n",
       "</div>"
      ],
      "text/plain": [
       "      name      cas   adduct  \\\n",
       "0  Inosine  58-63-9  [M+Na]+   \n",
       "\n",
       "                                              smiles  precursor_mz  \\\n",
       "0  O=c1[nH]cnc2c1ncn2[C@@H]1O[C@H](CO)[C@@H](O)[C...    291.069435   \n",
       "\n",
       "                                         query_peaks  \\\n",
       "0  [[55.05794906616211, 26.0], [60.98749923706055...   \n",
       "\n",
       "                                query_peaks_denoised  entropy_similarity  \\\n",
       "0  [[159.02952575683594, 1058.0], [291.0574951171...            0.591505   \n",
       "\n",
       "   denoised_similarity  \n",
       "0                  1.0  "
      ]
     },
     "execution_count": 64,
     "metadata": {},
     "output_type": "execute_result"
    }
   ],
   "source": [
    "sd.denoising_search(query_spectrum, query_pmz, reference_library)"
   ]
  },
  {
   "cell_type": "markdown",
   "metadata": {},
   "source": [
    "# search in batch mode"
   ]
  },
  {
   "cell_type": "code",
   "execution_count": 58,
   "metadata": {},
   "outputs": [
    {
     "name": "stderr",
     "output_type": "stream",
     "text": [
      "100%|██████████| 565/565 [00:09<00:00, 58.36it/s]\n"
     ]
    }
   ],
   "source": [
    "import spectral_denoising as sd\n",
    "results = sd.denoising_search_batch(query_spectra['peaks'], query_spectra['precursor_mz'],reference_library)\n",
    "# this will return a lists of denoising search results\n",
    "# query_peaks: raw query peaks, query_peaks_denoised: raw query peaks denoised with the molecular information provided in reference library\n",
    "# entropy_similarity: similarity between raw query peak and library peaks; denoised_smilarity: similarity between denoised query peak and library peaks"
   ]
  },
  {
   "cell_type": "code",
   "execution_count": 61,
   "metadata": {},
   "outputs": [
    {
     "data": {
      "text/html": [
       "<div>\n",
       "<style scoped>\n",
       "    .dataframe tbody tr th:only-of-type {\n",
       "        vertical-align: middle;\n",
       "    }\n",
       "\n",
       "    .dataframe tbody tr th {\n",
       "        vertical-align: top;\n",
       "    }\n",
       "\n",
       "    .dataframe thead th {\n",
       "        text-align: right;\n",
       "    }\n",
       "</style>\n",
       "<table border=\"1\" class=\"dataframe\">\n",
       "  <thead>\n",
       "    <tr style=\"text-align: right;\">\n",
       "      <th></th>\n",
       "      <th>name</th>\n",
       "      <th>cas</th>\n",
       "      <th>adduct</th>\n",
       "      <th>smiles</th>\n",
       "      <th>precursor_mz</th>\n",
       "      <th>query_peaks</th>\n",
       "      <th>query_peaks_denoised</th>\n",
       "      <th>entropy_similarity</th>\n",
       "      <th>denoised_similarity</th>\n",
       "    </tr>\n",
       "  </thead>\n",
       "  <tbody>\n",
       "    <tr>\n",
       "      <th>6</th>\n",
       "      <td>Tryptamine</td>\n",
       "      <td>61-54-1</td>\n",
       "      <td>[M+H]+</td>\n",
       "      <td>NCCc1c[nH]c2ccccc12</td>\n",
       "      <td>161.107275</td>\n",
       "      <td>[[40.029239654541016, 62.0], [41.0396919250488...</td>\n",
       "      <td>[[41.03969192504883, 92.0], [51.02379989624023...</td>\n",
       "      <td>0.940968</td>\n",
       "      <td>1.000000</td>\n",
       "    </tr>\n",
       "    <tr>\n",
       "      <th>419</th>\n",
       "      <td>(R,S)-Anatabine</td>\n",
       "      <td>2743-90-0</td>\n",
       "      <td>[M+H]+</td>\n",
       "      <td>C1=CCC(c2cccnc2)NC1</td>\n",
       "      <td>161.107275</td>\n",
       "      <td>[[40.029239654541016, 62.0], [41.0396919250488...</td>\n",
       "      <td>[[41.03969192504883, 92.0], [51.02379989624023...</td>\n",
       "      <td>0.732812</td>\n",
       "      <td>0.690817</td>\n",
       "    </tr>\n",
       "    <tr>\n",
       "      <th>420</th>\n",
       "      <td>(R,S)-Anatabine</td>\n",
       "      <td>2743-90-0</td>\n",
       "      <td>[M+H]+</td>\n",
       "      <td>C1=CCC(c2cccnc2)NC1</td>\n",
       "      <td>161.107275</td>\n",
       "      <td>[[40.029239654541016, 62.0], [41.0396919250488...</td>\n",
       "      <td>[[41.03969192504883, 92.0], [51.02379989624023...</td>\n",
       "      <td>0.638592</td>\n",
       "      <td>0.572749</td>\n",
       "    </tr>\n",
       "  </tbody>\n",
       "</table>\n",
       "</div>"
      ],
      "text/plain": [
       "                name        cas  adduct               smiles  precursor_mz  \\\n",
       "6         Tryptamine    61-54-1  [M+H]+  NCCc1c[nH]c2ccccc12    161.107275   \n",
       "419  (R,S)-Anatabine  2743-90-0  [M+H]+  C1=CCC(c2cccnc2)NC1    161.107275   \n",
       "420  (R,S)-Anatabine  2743-90-0  [M+H]+  C1=CCC(c2cccnc2)NC1    161.107275   \n",
       "\n",
       "                                           query_peaks  \\\n",
       "6    [[40.029239654541016, 62.0], [41.0396919250488...   \n",
       "419  [[40.029239654541016, 62.0], [41.0396919250488...   \n",
       "420  [[40.029239654541016, 62.0], [41.0396919250488...   \n",
       "\n",
       "                                  query_peaks_denoised  entropy_similarity  \\\n",
       "6    [[41.03969192504883, 92.0], [51.02379989624023...            0.940968   \n",
       "419  [[41.03969192504883, 92.0], [51.02379989624023...            0.732812   \n",
       "420  [[41.03969192504883, 92.0], [51.02379989624023...            0.638592   \n",
       "\n",
       "     denoised_similarity  \n",
       "6               1.000000  \n",
       "419             0.690817  \n",
       "420             0.572749  "
      ]
     },
     "execution_count": 61,
     "metadata": {},
     "output_type": "execute_result"
    }
   ],
   "source": [
    "results[6]"
   ]
  },
  {
   "cell_type": "code",
   "execution_count": 59,
   "metadata": {},
   "outputs": [],
   "source": [
    "sd.export_denoising_searches(results, 'denoising_results', top_n=1)\n",
    "# then you can export the results to a msp files, each file contains all candidate spectra with entropy similarities.\n",
    "# top_n: number of top candidates to be exported"
   ]
  }
 ],
 "metadata": {
  "kernelspec": {
   "display_name": "test_env",
   "language": "python",
   "name": "python3"
  },
  "language_info": {
   "codemirror_mode": {
    "name": "ipython",
    "version": 3
   },
   "file_extension": ".py",
   "mimetype": "text/x-python",
   "name": "python",
   "nbconvert_exporter": "python",
   "pygments_lexer": "ipython3",
   "version": "3.12.5"
  }
 },
 "nbformat": 4,
 "nbformat_minor": 2
}
