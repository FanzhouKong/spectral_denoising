{
 "cells": [
  {
   "cell_type": "code",
   "execution_count": 1,
   "metadata": {},
   "outputs": [],
   "source": [
    "%load_ext autoreload\n",
    "%autoreload 2\n",
    "import pandas as pd\n",
    "import spectral_denoising as sd"
   ]
  },
  {
   "cell_type": "markdown",
   "metadata": {},
   "source": [
    "# denoising search: single spectrum"
   ]
  },
  {
   "cell_type": "code",
   "execution_count": 3,
   "metadata": {},
   "outputs": [
    {
     "name": "stderr",
     "output_type": "stream",
     "text": [
      "/opt/homebrew/Caskroom/miniforge/base/envs/test_env/lib/python3.12/site-packages/spectral_denoising/file_io.py:59: FutureWarning: errors='ignore' is deprecated and will raise in a future version. Use to_numeric without passing `errors` and catch exceptions explicitly instead\n",
      "  df[column] = pd.to_numeric(df[column], errors='ignore')\n"
     ]
    }
   ],
   "source": [
    "query_spectra= sd.read_msp('../sample_data/query_spectra.msp')\n",
    "reference_library =sd.read_msp('../sample_data/reference_library.msp')\n",
    "query_spectrum, query_pmz = query_spectra.iloc[0]['peaks'], query_spectra.iloc[0]['precursor_mz']"
   ]
  },
  {
   "cell_type": "code",
   "execution_count": 4,
   "metadata": {},
   "outputs": [
    {
     "data": {
      "text/html": [
       "<div>\n",
       "<style scoped>\n",
       "    .dataframe tbody tr th:only-of-type {\n",
       "        vertical-align: middle;\n",
       "    }\n",
       "\n",
       "    .dataframe tbody tr th {\n",
       "        vertical-align: top;\n",
       "    }\n",
       "\n",
       "    .dataframe thead th {\n",
       "        text-align: right;\n",
       "    }\n",
       "</style>\n",
       "<table border=\"1\" class=\"dataframe\">\n",
       "  <thead>\n",
       "    <tr style=\"text-align: right;\">\n",
       "      <th></th>\n",
       "      <th>name</th>\n",
       "      <th>peaks</th>\n",
       "      <th>precursor_mz</th>\n",
       "      <th>cas</th>\n",
       "      <th>adduct</th>\n",
       "      <th>mz</th>\n",
       "      <th>comment</th>\n",
       "      <th>smiles</th>\n",
       "      <th>formula</th>\n",
       "      <th>mix</th>\n",
       "      <th>...</th>\n",
       "      <th>reci_snr</th>\n",
       "      <th>ms2_scan_idx</th>\n",
       "      <th>pmz_offset</th>\n",
       "      <th>entropy</th>\n",
       "      <th>num peaks</th>\n",
       "      <th>entropy_similarity</th>\n",
       "      <th>denoised_similarity</th>\n",
       "      <th>query_peaks</th>\n",
       "      <th>query_peaks_denoised</th>\n",
       "      <th>query_pmz</th>\n",
       "    </tr>\n",
       "  </thead>\n",
       "  <tbody>\n",
       "    <tr>\n",
       "      <th>0</th>\n",
       "      <td>Inosine</td>\n",
       "      <td>[[159.02952575683594, 1058.0], [291.0574951171...</td>\n",
       "      <td>291.069435</td>\n",
       "      <td>58-63-9</td>\n",
       "      <td>[M+Na]+</td>\n",
       "      <td>291.06999</td>\n",
       "      <td>Major</td>\n",
       "      <td>O=c1[nH]cnc2c1ncn2[C@@H]1O[C@H](CO)[C@@H](O)[C...</td>\n",
       "      <td>C10H12N4O5</td>\n",
       "      <td>Alkaloids-pos-mix1</td>\n",
       "      <td>...</td>\n",
       "      <td>0.004769</td>\n",
       "      <td>277</td>\n",
       "      <td>0.000659</td>\n",
       "      <td>1.0</td>\n",
       "      <td>2</td>\n",
       "      <td>0.591505</td>\n",
       "      <td>1.0</td>\n",
       "      <td>[[55.05794906616211, 26.0], [60.98749923706055...</td>\n",
       "      <td>[[159.02952575683594, 1058.0], [291.0574951171...</td>\n",
       "      <td>291.069435</td>\n",
       "    </tr>\n",
       "  </tbody>\n",
       "</table>\n",
       "<p>1 rows × 27 columns</p>\n",
       "</div>"
      ],
      "text/plain": [
       "      name                                              peaks  precursor_mz  \\\n",
       "0  Inosine  [[159.02952575683594, 1058.0], [291.0574951171...    291.069435   \n",
       "\n",
       "       cas   adduct         mz comment  \\\n",
       "0  58-63-9  [M+Na]+  291.06999   Major   \n",
       "\n",
       "                                              smiles     formula  \\\n",
       "0  O=c1[nH]cnc2c1ncn2[C@@H]1O[C@H](CO)[C@@H](O)[C...  C10H12N4O5   \n",
       "\n",
       "                  mix  ...  reci_snr  ms2_scan_idx  pmz_offset  entropy  \\\n",
       "0  Alkaloids-pos-mix1  ...  0.004769           277    0.000659      1.0   \n",
       "\n",
       "   num peaks  entropy_similarity denoised_similarity  \\\n",
       "0          2            0.591505                 1.0   \n",
       "\n",
       "                                         query_peaks  \\\n",
       "0  [[55.05794906616211, 26.0], [60.98749923706055...   \n",
       "\n",
       "                                query_peaks_denoised   query_pmz  \n",
       "0  [[159.02952575683594, 1058.0], [291.0574951171...  291.069435  \n",
       "\n",
       "[1 rows x 27 columns]"
      ]
     },
     "execution_count": 4,
     "metadata": {},
     "output_type": "execute_result"
    }
   ],
   "source": [
    "sd.denoising_search(query_spectrum, query_pmz, reference_library)"
   ]
  },
  {
   "cell_type": "markdown",
   "metadata": {},
   "source": [
    "# search in batch mode"
   ]
  },
  {
   "cell_type": "code",
   "execution_count": 5,
   "metadata": {},
   "outputs": [
    {
     "name": "stderr",
     "output_type": "stream",
     "text": [
      "100%|██████████| 565/565 [00:09<00:00, 59.59it/s]\n"
     ]
    }
   ],
   "source": [
    "results = sd.denoising_search_batch(query_spectra['peaks'], query_spectra['precursor_mz'],reference_library)\n",
    "# this will return a lists of denoising search results\n",
    "# peaks: library peaks; quene_peaks: quened peak; quene_peaks_denoised: quene peaks denoised with hypothetical smiles/adduct; \n",
    "# entropy_similarity: similarity between raw quened peak and library peaks; denoised_smilarity: similarity between denoised quened peak and library peaks"
   ]
  },
  {
   "cell_type": "code",
   "execution_count": 7,
   "metadata": {},
   "outputs": [
    {
     "data": {
      "text/html": [
       "<div>\n",
       "<style scoped>\n",
       "    .dataframe tbody tr th:only-of-type {\n",
       "        vertical-align: middle;\n",
       "    }\n",
       "\n",
       "    .dataframe tbody tr th {\n",
       "        vertical-align: top;\n",
       "    }\n",
       "\n",
       "    .dataframe thead th {\n",
       "        text-align: right;\n",
       "    }\n",
       "</style>\n",
       "<table border=\"1\" class=\"dataframe\">\n",
       "  <thead>\n",
       "    <tr style=\"text-align: right;\">\n",
       "      <th></th>\n",
       "      <th>name</th>\n",
       "      <th>peaks</th>\n",
       "      <th>precursor_mz</th>\n",
       "      <th>cas</th>\n",
       "      <th>adduct</th>\n",
       "      <th>mz</th>\n",
       "      <th>comment</th>\n",
       "      <th>smiles</th>\n",
       "      <th>formula</th>\n",
       "      <th>mix</th>\n",
       "      <th>...</th>\n",
       "      <th>reci_snr</th>\n",
       "      <th>ms2_scan_idx</th>\n",
       "      <th>pmz_offset</th>\n",
       "      <th>entropy</th>\n",
       "      <th>num peaks</th>\n",
       "      <th>entropy_similarity</th>\n",
       "      <th>denoised_similarity</th>\n",
       "      <th>query_peaks</th>\n",
       "      <th>query_peaks_denoised</th>\n",
       "      <th>query_pmz</th>\n",
       "    </tr>\n",
       "  </thead>\n",
       "  <tbody>\n",
       "    <tr>\n",
       "      <th>7</th>\n",
       "      <td>Xanthine</td>\n",
       "      <td>[[44.99160385131836, 123.0], [46.9957618713378...</td>\n",
       "      <td>153.040252</td>\n",
       "      <td>69-89-6</td>\n",
       "      <td>[M+H]+</td>\n",
       "      <td>153.040702</td>\n",
       "      <td>Major</td>\n",
       "      <td>O=c1[nH]c(=O)c2[nH]cnc2[nH]1</td>\n",
       "      <td>C5H4N4O2</td>\n",
       "      <td>Alkaloids-pos-mix1</td>\n",
       "      <td>...</td>\n",
       "      <td>0.135607</td>\n",
       "      <td>178</td>\n",
       "      <td>0.001193</td>\n",
       "      <td>1.0000001192092896</td>\n",
       "      <td>13</td>\n",
       "      <td>0.926442</td>\n",
       "      <td>1.0</td>\n",
       "      <td>[[40.02032470703125, 62.0], [43.03020095825195...</td>\n",
       "      <td>[[44.99160385131836, 123.0], [46.9957618713378...</td>\n",
       "      <td>153.040252</td>\n",
       "    </tr>\n",
       "  </tbody>\n",
       "</table>\n",
       "<p>1 rows × 27 columns</p>\n",
       "</div>"
      ],
      "text/plain": [
       "       name                                              peaks  precursor_mz  \\\n",
       "7  Xanthine  [[44.99160385131836, 123.0], [46.9957618713378...    153.040252   \n",
       "\n",
       "       cas  adduct          mz comment                        smiles  \\\n",
       "7  69-89-6  [M+H]+  153.040702   Major  O=c1[nH]c(=O)c2[nH]cnc2[nH]1   \n",
       "\n",
       "    formula                 mix  ...  reci_snr  ms2_scan_idx  pmz_offset  \\\n",
       "7  C5H4N4O2  Alkaloids-pos-mix1  ...  0.135607           178    0.001193   \n",
       "\n",
       "              entropy  num peaks  entropy_similarity denoised_similarity  \\\n",
       "7  1.0000001192092896         13            0.926442                 1.0   \n",
       "\n",
       "                                         query_peaks  \\\n",
       "7  [[40.02032470703125, 62.0], [43.03020095825195...   \n",
       "\n",
       "                                query_peaks_denoised   query_pmz  \n",
       "7  [[44.99160385131836, 123.0], [46.9957618713378...  153.040252  \n",
       "\n",
       "[1 rows x 27 columns]"
      ]
     },
     "execution_count": 7,
     "metadata": {},
     "output_type": "execute_result"
    }
   ],
   "source": [
    "results[7]"
   ]
  }
 ],
 "metadata": {
  "kernelspec": {
   "display_name": "test_env",
   "language": "python",
   "name": "python3"
  },
  "language_info": {
   "codemirror_mode": {
    "name": "ipython",
    "version": 3
   },
   "file_extension": ".py",
   "mimetype": "text/x-python",
   "name": "python",
   "nbconvert_exporter": "python",
   "pygments_lexer": "ipython3",
   "version": "3.12.5"
  }
 },
 "nbformat": 4,
 "nbformat_minor": 2
}
