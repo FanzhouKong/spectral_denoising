{
 "cells": [
  {
   "cell_type": "code",
   "execution_count": 7,
   "metadata": {},
   "outputs": [
    {
     "name": "stdout",
     "output_type": "stream",
     "text": [
      "The autoreload extension is already loaded. To reload it, use:\n",
      "  %reload_ext autoreload\n"
     ]
    }
   ],
   "source": [
    "%load_ext autoreload\n",
    "%autoreload 2"
   ]
  },
  {
   "cell_type": "code",
   "execution_count": 8,
   "metadata": {},
   "outputs": [],
   "source": [
    "from spectral_denoising.file_io import read_msp"
   ]
  },
  {
   "cell_type": "code",
   "execution_count": 6,
   "metadata": {},
   "outputs": [
    {
     "name": "stderr",
     "output_type": "stream",
     "text": [
      "/opt/homebrew/Caskroom/miniforge/base/envs/test_env/lib/python3.12/site-packages/spectral_denoising/file_io.py:59: FutureWarning: errors='ignore' is deprecated and will raise in a future version. Use to_numeric without passing `errors` and catch exceptions explicitly instead\n",
      "  df[column] = pd.to_numeric(df[column], errors='ignore')\n"
     ]
    },
    {
     "data": {
      "text/html": [
       "<div>\n",
       "<style scoped>\n",
       "    .dataframe tbody tr th:only-of-type {\n",
       "        vertical-align: middle;\n",
       "    }\n",
       "\n",
       "    .dataframe tbody tr th {\n",
       "        vertical-align: top;\n",
       "    }\n",
       "\n",
       "    .dataframe thead th {\n",
       "        text-align: right;\n",
       "    }\n",
       "</style>\n",
       "<table border=\"1\" class=\"dataframe\">\n",
       "  <thead>\n",
       "    <tr style=\"text-align: right;\">\n",
       "      <th></th>\n",
       "      <th>name</th>\n",
       "      <th>peaks</th>\n",
       "      <th>precursor_mz</th>\n",
       "      <th>num peaks</th>\n",
       "    </tr>\n",
       "  </thead>\n",
       "  <tbody>\n",
       "    <tr>\n",
       "      <th>0</th>\n",
       "      <td>unknown</td>\n",
       "      <td>[[55.05794906616211, 26.0], [60.98749923706055...</td>\n",
       "      <td>291.069435</td>\n",
       "      <td>11</td>\n",
       "    </tr>\n",
       "    <tr>\n",
       "      <th>1</th>\n",
       "      <td>unknown</td>\n",
       "      <td>[[40.018550872802734, 937.0], [41.028869628906...</td>\n",
       "      <td>113.033490</td>\n",
       "      <td>16</td>\n",
       "    </tr>\n",
       "    <tr>\n",
       "      <th>2</th>\n",
       "      <td>unknown</td>\n",
       "      <td>[[40.018550872802734, 382.0], [41.041454315185...</td>\n",
       "      <td>244.092623</td>\n",
       "      <td>62</td>\n",
       "    </tr>\n",
       "    <tr>\n",
       "      <th>3</th>\n",
       "      <td>unknown</td>\n",
       "      <td>[[40.019439697265625, 373.0], [41.041454315185...</td>\n",
       "      <td>137.046177</td>\n",
       "      <td>40</td>\n",
       "    </tr>\n",
       "    <tr>\n",
       "      <th>4</th>\n",
       "      <td>unknown</td>\n",
       "      <td>[[43.01823425292969, 31.0], [46.99576187133789...</td>\n",
       "      <td>159.026448</td>\n",
       "      <td>18</td>\n",
       "    </tr>\n",
       "    <tr>\n",
       "      <th>...</th>\n",
       "      <td>...</td>\n",
       "      <td>...</td>\n",
       "      <td>...</td>\n",
       "      <td>...</td>\n",
       "    </tr>\n",
       "    <tr>\n",
       "      <th>560</th>\n",
       "      <td>unknown</td>\n",
       "      <td>[[41.03775405883789, 3316.0], [42.032608032226...</td>\n",
       "      <td>142.121188</td>\n",
       "      <td>76</td>\n",
       "    </tr>\n",
       "    <tr>\n",
       "      <th>561</th>\n",
       "      <td>unknown</td>\n",
       "      <td>[[41.0360221862793, 123.0], [42.03267669677734...</td>\n",
       "      <td>176.069709</td>\n",
       "      <td>85</td>\n",
       "    </tr>\n",
       "    <tr>\n",
       "      <th>562</th>\n",
       "      <td>unknown</td>\n",
       "      <td>[[41.037696838378906, 1311.0], [41.23571395874...</td>\n",
       "      <td>414.337014</td>\n",
       "      <td>983</td>\n",
       "    </tr>\n",
       "    <tr>\n",
       "      <th>563</th>\n",
       "      <td>unknown</td>\n",
       "      <td>[[99.02277374267578, 26.0], [101.0608444213867...</td>\n",
       "      <td>352.116991</td>\n",
       "      <td>96</td>\n",
       "    </tr>\n",
       "    <tr>\n",
       "      <th>564</th>\n",
       "      <td>unknown</td>\n",
       "      <td>[[44.05249786376953, 15.0], [77.03397369384766...</td>\n",
       "      <td>623.309714</td>\n",
       "      <td>170</td>\n",
       "    </tr>\n",
       "  </tbody>\n",
       "</table>\n",
       "<p>565 rows × 4 columns</p>\n",
       "</div>"
      ],
      "text/plain": [
       "        name                                              peaks  precursor_mz  \\\n",
       "0    unknown  [[55.05794906616211, 26.0], [60.98749923706055...    291.069435   \n",
       "1    unknown  [[40.018550872802734, 937.0], [41.028869628906...    113.033490   \n",
       "2    unknown  [[40.018550872802734, 382.0], [41.041454315185...    244.092623   \n",
       "3    unknown  [[40.019439697265625, 373.0], [41.041454315185...    137.046177   \n",
       "4    unknown  [[43.01823425292969, 31.0], [46.99576187133789...    159.026448   \n",
       "..       ...                                                ...           ...   \n",
       "560  unknown  [[41.03775405883789, 3316.0], [42.032608032226...    142.121188   \n",
       "561  unknown  [[41.0360221862793, 123.0], [42.03267669677734...    176.069709   \n",
       "562  unknown  [[41.037696838378906, 1311.0], [41.23571395874...    414.337014   \n",
       "563  unknown  [[99.02277374267578, 26.0], [101.0608444213867...    352.116991   \n",
       "564  unknown  [[44.05249786376953, 15.0], [77.03397369384766...    623.309714   \n",
       "\n",
       "     num peaks  \n",
       "0           11  \n",
       "1           16  \n",
       "2           62  \n",
       "3           40  \n",
       "4           18  \n",
       "..         ...  \n",
       "560         76  \n",
       "561         85  \n",
       "562        983  \n",
       "563         96  \n",
       "564        170  \n",
       "\n",
       "[565 rows x 4 columns]"
      ]
     },
     "execution_count": 6,
     "metadata": {},
     "output_type": "execute_result"
    }
   ],
   "source": [
    "read_msp('../sample_data/quene_spectra.msp')"
   ]
  }
 ],
 "metadata": {
  "kernelspec": {
   "display_name": "test_env",
   "language": "python",
   "name": "python3"
  },
  "language_info": {
   "codemirror_mode": {
    "name": "ipython",
    "version": 3
   },
   "file_extension": ".py",
   "mimetype": "text/x-python",
   "name": "python",
   "nbconvert_exporter": "python",
   "pygments_lexer": "ipython3",
   "version": "3.12.5"
  }
 },
 "nbformat": 4,
 "nbformat_minor": 2
}
