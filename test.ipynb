{
 "cells": [
  {
   "cell_type": "code",
   "execution_count": 1,
   "metadata": {},
   "outputs": [],
   "source": [
    "%load_ext autoreload\n",
    "%autoreload 2"
   ]
  },
  {
   "cell_type": "code",
   "execution_count": 10,
   "metadata": {},
   "outputs": [
    {
     "name": "stdout",
     "output_type": "stream",
     "text": [
      "159.02373 0.006996155\n"
     ]
    }
   ],
   "source": [
    "from spectral_denoising.spectral_denoising import *\n",
    "from spectral_denoising.chem_utils import *\n",
    "smiles = 'O=c1nc[nH]c2nc[nH]c12'\n",
    "adduct = '[M+Na]+'\n",
    "\n",
    "peak = np.array([[48.992496490478516 ,154.0],\n",
    "                  [63.006099700927734, 265.0],\n",
    "                  [79.02062225341797, 521.0],\n",
    "                  [159.02373146795, 999]], \n",
    "                  \n",
    "                  dtype = np.float32)\n",
    "computed_pmz = calculate_precursormz(adduct, smiles)\n",
    "pmz, mass_threshold = get_pmz_statistics(peak, computed_pmz, mass_tolerance=0.005)\n",
    "print(pmz, mass_threshold)"
   ]
  },
  {
   "cell_type": "code",
   "execution_count": 13,
   "metadata": {},
   "outputs": [],
   "source": [
    "master_formula = prep_formula(smiles, adduct)"
   ]
  },
  {
   "cell_type": "code",
   "execution_count": 14,
   "metadata": {},
   "outputs": [],
   "source": [
    "all_possible_candidate_formula,all_possible_mass = get_all_subformulas(master_formula)"
   ]
  },
  {
   "cell_type": "code",
   "execution_count": 17,
   "metadata": {},
   "outputs": [
    {
     "name": "stdout",
     "output_type": "stream",
     "text": [
      "['H', 'H2', 'H3', 'H4'] [1.00782503 2.01565006 3.0234751  4.03130013]\n"
     ]
    }
   ],
   "source": [
    "print(all_possible_candidate_formula[1:5], all_possible_mass[1:5])"
   ]
  },
  {
   "cell_type": "code",
   "execution_count": 40,
   "metadata": {},
   "outputs": [
    {
     "name": "stdout",
     "output_type": "stream",
     "text": [
      "the spectrum entropy is 0.98, the normalized entropy is 0.63\n",
      "the spectrum entropy is 3.67, the normalized entropy is 0.73\n",
      "the entropy similarity of contaminated spectrum and the raw spectrum is 0.48\n",
      "the entropy similarity of denoised spectrum and the raw spectrum is 0.92\n"
     ]
    }
   ],
   "source": [
    "import numpy as np\n",
    "import spectral_denoising as sd\n",
    "from spectral_denoising.spectral_operations import *\n",
    "from spectral_denoising.chem_utils import *\n",
    "\n",
    "smiles = 'O=c1nc[nH]c2nc[nH]c12'\n",
    "adduct = '[M+Na]+'\n",
    "pmz = calculate_precursormz(adduct,smiles)\n",
    "peak = np.array([[48.992496490478516 ,154.0],\n",
    "                  [63.006099700927734, 265.0],\n",
    "                  [79.02062225341797, 521.0]], dtype = np.float32)\n",
    "print(f'the spectrum entropy is {spctrum_entropy(peak):.2f}, the normalized entropy is {normalized_entropy(peak):.2f}')\n",
    "# alternatively, you can store mass and intensity in separate arrays, and use pack_spectrum(mass, intensity) to get the peaks array\n",
    "# e.g.mass,intensity = [48.992496490478516, 63.006099700927734, 79.02062225341797], [154.0, 265.0, 521.0]\n",
    "# peak = pack_spectrum(mass, intensity)\n",
    "\n",
    "# generate some electronic noise and add it to the peaks\n",
    "from spectral_denoising.noise import *\n",
    "noise = generate_noise(pmz, lamda=10, n = 50)\n",
    "peak_with_noise = add_noise(peak, noise)\n",
    "# use head_to_tail_plot to visualize the spectra, only in jupyter notebook\n",
    "# sd.head_to_tail_plot(peaks_with_noise,peaks ,pmz)\n",
    "print(f'the spectrum entropy is {spctrum_entropy(peak_with_noise):.2f}, the normalized entropy is {normalized_entropy(peak_with_noise):.2f}')\n",
    "print(f'the entropy similarity of contaminated spectrum and the raw spectrum is {entropy_similairty(peak_with_noise,peak,  pmz = pmz):.2f}')\n",
    "\n",
    "# perform spectral denosing and compare against the raw spectrum\n",
    "peak_denoised = sd.spectral_denoising(peak_with_noise, smiles, adduct)\n",
    "print(f'the entropy similarity of denoised spectrum and the raw spectrum is {entropy_similairty(peak_denoised, peak, pmz = pmz):.2f}')\n",
    "# use head_to_tail_plot to visualize the spectra, only in jupyter notebook\n",
    "# sd.head_to_tail_plot(peaks_denoised,peaks ,pmz)"
   ]
  },
  {
   "cell_type": "code",
   "execution_count": 41,
   "metadata": {},
   "outputs": [
    {
     "name": "stderr",
     "output_type": "stream",
     "text": [
      "/Users/fanzhoukong/Documents/GitHub/spectral_denoising/spectral_denoising/file_io.py:59: FutureWarning: errors='ignore' is deprecated and will raise in a future version. Use to_numeric without passing `errors` and catch exceptions explicitly instead\n",
      "  df[column] = pd.to_numeric(df[column], errors='ignore')\n"
     ]
    },
    {
     "data": {
      "text/html": [
       "<div>\n",
       "<style scoped>\n",
       "    .dataframe tbody tr th:only-of-type {\n",
       "        vertical-align: middle;\n",
       "    }\n",
       "\n",
       "    .dataframe tbody tr th {\n",
       "        vertical-align: top;\n",
       "    }\n",
       "\n",
       "    .dataframe thead th {\n",
       "        text-align: right;\n",
       "    }\n",
       "</style>\n",
       "<table border=\"1\" class=\"dataframe\">\n",
       "  <thead>\n",
       "    <tr style=\"text-align: right;\">\n",
       "      <th></th>\n",
       "      <th>name</th>\n",
       "      <th>peaks</th>\n",
       "      <th>precursor_mz</th>\n",
       "      <th>cas</th>\n",
       "      <th>adduct</th>\n",
       "      <th>mz</th>\n",
       "      <th>comment</th>\n",
       "      <th>smiles</th>\n",
       "      <th>formula</th>\n",
       "      <th>mix</th>\n",
       "      <th>...</th>\n",
       "      <th>reci_snr</th>\n",
       "      <th>ms2_scan_idx</th>\n",
       "      <th>pmz_offset</th>\n",
       "      <th>entropy</th>\n",
       "      <th>num peaks</th>\n",
       "      <th>entropy_similarity</th>\n",
       "      <th>denoised_similarity</th>\n",
       "      <th>quene_peaks</th>\n",
       "      <th>quene_pmz_denoised</th>\n",
       "      <th>quene_pmz</th>\n",
       "    </tr>\n",
       "  </thead>\n",
       "  <tbody>\n",
       "    <tr>\n",
       "      <th>0</th>\n",
       "      <td>Inosine</td>\n",
       "      <td>[[159.02952575683594, 1058.0], [291.0574951171...</td>\n",
       "      <td>291.069435</td>\n",
       "      <td>58-63-9</td>\n",
       "      <td>[M+Na]+</td>\n",
       "      <td>291.06999</td>\n",
       "      <td>Major</td>\n",
       "      <td>O=c1[nH]cnc2c1ncn2[C@@H]1O[C@H](CO)[C@@H](O)[C...</td>\n",
       "      <td>C10H12N4O5</td>\n",
       "      <td>Alkaloids-pos-mix1</td>\n",
       "      <td>...</td>\n",
       "      <td>0.004769</td>\n",
       "      <td>277</td>\n",
       "      <td>0.000659</td>\n",
       "      <td>1.0</td>\n",
       "      <td>2</td>\n",
       "      <td>0.591505</td>\n",
       "      <td>1.0</td>\n",
       "      <td>[[55.05794906616211, 26.0], [60.98749923706055...</td>\n",
       "      <td>[[159.02952575683594, 1058.0], [291.0574951171...</td>\n",
       "      <td>291.069435</td>\n",
       "    </tr>\n",
       "  </tbody>\n",
       "</table>\n",
       "<p>1 rows × 27 columns</p>\n",
       "</div>"
      ],
      "text/plain": [
       "      name                                              peaks  precursor_mz  \\\n",
       "0  Inosine  [[159.02952575683594, 1058.0], [291.0574951171...    291.069435   \n",
       "\n",
       "       cas   adduct         mz comment  \\\n",
       "0  58-63-9  [M+Na]+  291.06999   Major   \n",
       "\n",
       "                                              smiles     formula  \\\n",
       "0  O=c1[nH]cnc2c1ncn2[C@@H]1O[C@H](CO)[C@@H](O)[C...  C10H12N4O5   \n",
       "\n",
       "                  mix  ...  reci_snr  ms2_scan_idx  pmz_offset  entropy  \\\n",
       "0  Alkaloids-pos-mix1  ...  0.004769           277    0.000659      1.0   \n",
       "\n",
       "   num peaks  entropy_similarity denoised_similarity  \\\n",
       "0          2            0.591505                 1.0   \n",
       "\n",
       "                                         quene_peaks  \\\n",
       "0  [[55.05794906616211, 26.0], [60.98749923706055...   \n",
       "\n",
       "                                  quene_pmz_denoised   quene_pmz  \n",
       "0  [[159.02952575683594, 1058.0], [291.0574951171...  291.069435  \n",
       "\n",
       "[1 rows x 27 columns]"
      ]
     },
     "metadata": {},
     "output_type": "display_data"
    }
   ],
   "source": [
    "import spectral_denoising as sd\n",
    "query_spectra= sd.read_msp('sample_data/query_spectra.msp')\n",
    "reference_library =sd.read_msp('sample_data/reference_library.msp')\n",
    "query_spectrum, query_pmz = query_spectra.iloc[0]['peaks'], query_spectra.iloc[0]['precursor_mz'] # just the first spectrum\n",
    "result = sd.denoising_search(query_spectrum, query_pmz, reference_library)\n",
    "display(result)"
   ]
  },
  {
   "cell_type": "code",
   "execution_count": 24,
   "metadata": {},
   "outputs": [
    {
     "name": "stderr",
     "output_type": "stream",
     "text": [
      "100%|██████████| 565/565 [00:10<00:00, 53.80it/s]\n"
     ]
    }
   ],
   "source": [
    "query_spectrum, query_pmz = query_spectra.iloc[0]['peaks'], query_spectra.iloc[0]['precursor_mz'] # just the first spectrum\n",
    "results = sd.denoising_search_batch(query_spectra['peaks'], query_spectra['precursor_mz'], reference_library)\n"
   ]
  },
  {
   "cell_type": "code",
   "execution_count": 43,
   "metadata": {},
   "outputs": [
    {
     "data": {
      "text/html": [
       "<div>\n",
       "<style scoped>\n",
       "    .dataframe tbody tr th:only-of-type {\n",
       "        vertical-align: middle;\n",
       "    }\n",
       "\n",
       "    .dataframe tbody tr th {\n",
       "        vertical-align: top;\n",
       "    }\n",
       "\n",
       "    .dataframe thead th {\n",
       "        text-align: right;\n",
       "    }\n",
       "</style>\n",
       "<table border=\"1\" class=\"dataframe\">\n",
       "  <thead>\n",
       "    <tr style=\"text-align: right;\">\n",
       "      <th></th>\n",
       "      <th>name</th>\n",
       "      <th>peaks</th>\n",
       "      <th>precursor_mz</th>\n",
       "      <th>cas</th>\n",
       "      <th>adduct</th>\n",
       "      <th>mz</th>\n",
       "      <th>comment</th>\n",
       "      <th>smiles</th>\n",
       "      <th>formula</th>\n",
       "      <th>mix</th>\n",
       "      <th>...</th>\n",
       "      <th>reci_snr</th>\n",
       "      <th>ms2_scan_idx</th>\n",
       "      <th>pmz_offset</th>\n",
       "      <th>entropy</th>\n",
       "      <th>num peaks</th>\n",
       "      <th>entropy_similarity</th>\n",
       "      <th>denoised_similarity</th>\n",
       "      <th>quene_peaks</th>\n",
       "      <th>quene_pmz_denoised</th>\n",
       "      <th>quene_pmz</th>\n",
       "    </tr>\n",
       "  </thead>\n",
       "  <tbody>\n",
       "    <tr>\n",
       "      <th>420</th>\n",
       "      <td>(R,S)-Anatabine</td>\n",
       "      <td>[[80.04740905761719, 757.0], [82.0651016235351...</td>\n",
       "      <td>161.104730</td>\n",
       "      <td>2743-90-0</td>\n",
       "      <td>[M+H]+</td>\n",
       "      <td>161.107325</td>\n",
       "      <td>isomer</td>\n",
       "      <td>C1=CCC(c2cccnc2)NC1</td>\n",
       "      <td>C10H12N2</td>\n",
       "      <td>Alkaloids-pos-mix34</td>\n",
       "      <td>...</td>\n",
       "      <td>0.000453</td>\n",
       "      <td>4141</td>\n",
       "      <td>0.000266</td>\n",
       "      <td>0.9999998807907104</td>\n",
       "      <td>9</td>\n",
       "      <td>0.638592</td>\n",
       "      <td>0.572749</td>\n",
       "      <td>[[40.029239654541016, 62.0], [41.0396919250488...</td>\n",
       "      <td>[[41.03969192504883, 92.0], [51.02379989624023...</td>\n",
       "      <td>161.107275</td>\n",
       "    </tr>\n",
       "    <tr>\n",
       "      <th>419</th>\n",
       "      <td>(R,S)-Anatabine</td>\n",
       "      <td>[[53.03861999511719, 258.0], [65.0372467041015...</td>\n",
       "      <td>161.105909</td>\n",
       "      <td>2743-90-0</td>\n",
       "      <td>[M+H]+</td>\n",
       "      <td>161.107325</td>\n",
       "      <td>Major</td>\n",
       "      <td>C1=CCC(c2cccnc2)NC1</td>\n",
       "      <td>C10H12N2</td>\n",
       "      <td>Alkaloids-pos-mix34</td>\n",
       "      <td>...</td>\n",
       "      <td>0.000167</td>\n",
       "      <td>179</td>\n",
       "      <td>0.001444</td>\n",
       "      <td>0.9999998807907104</td>\n",
       "      <td>25</td>\n",
       "      <td>0.732812</td>\n",
       "      <td>0.690817</td>\n",
       "      <td>[[40.029239654541016, 62.0], [41.0396919250488...</td>\n",
       "      <td>[[41.03969192504883, 92.0], [51.02379989624023...</td>\n",
       "      <td>161.107275</td>\n",
       "    </tr>\n",
       "    <tr>\n",
       "      <th>6</th>\n",
       "      <td>Tryptamine</td>\n",
       "      <td>[[41.03969192504883, 92.0], [51.02379989624023...</td>\n",
       "      <td>161.107275</td>\n",
       "      <td>61-54-1</td>\n",
       "      <td>[M+H]+</td>\n",
       "      <td>161.107325</td>\n",
       "      <td>Major</td>\n",
       "      <td>NCCc1c[nH]c2ccccc12</td>\n",
       "      <td>C10H12N2</td>\n",
       "      <td>Alkaloids-pos-mix1</td>\n",
       "      <td>...</td>\n",
       "      <td>0.002026</td>\n",
       "      <td>750</td>\n",
       "      <td>0.001936</td>\n",
       "      <td>0.9958412647247314</td>\n",
       "      <td>32</td>\n",
       "      <td>0.940968</td>\n",
       "      <td>1.000000</td>\n",
       "      <td>[[40.029239654541016, 62.0], [41.0396919250488...</td>\n",
       "      <td>[[41.03969192504883, 92.0], [51.02379989624023...</td>\n",
       "      <td>161.107275</td>\n",
       "    </tr>\n",
       "  </tbody>\n",
       "</table>\n",
       "<p>3 rows × 27 columns</p>\n",
       "</div>"
      ],
      "text/plain": [
       "                name                                              peaks  \\\n",
       "420  (R,S)-Anatabine  [[80.04740905761719, 757.0], [82.0651016235351...   \n",
       "419  (R,S)-Anatabine  [[53.03861999511719, 258.0], [65.0372467041015...   \n",
       "6         Tryptamine  [[41.03969192504883, 92.0], [51.02379989624023...   \n",
       "\n",
       "     precursor_mz        cas  adduct          mz comment               smiles  \\\n",
       "420    161.104730  2743-90-0  [M+H]+  161.107325  isomer  C1=CCC(c2cccnc2)NC1   \n",
       "419    161.105909  2743-90-0  [M+H]+  161.107325   Major  C1=CCC(c2cccnc2)NC1   \n",
       "6      161.107275    61-54-1  [M+H]+  161.107325   Major  NCCc1c[nH]c2ccccc12   \n",
       "\n",
       "      formula                  mix  ...  reci_snr  ms2_scan_idx  pmz_offset  \\\n",
       "420  C10H12N2  Alkaloids-pos-mix34  ...  0.000453          4141    0.000266   \n",
       "419  C10H12N2  Alkaloids-pos-mix34  ...  0.000167           179    0.001444   \n",
       "6    C10H12N2   Alkaloids-pos-mix1  ...  0.002026           750    0.001936   \n",
       "\n",
       "                entropy  num peaks  entropy_similarity denoised_similarity  \\\n",
       "420  0.9999998807907104          9            0.638592            0.572749   \n",
       "419  0.9999998807907104         25            0.732812            0.690817   \n",
       "6    0.9958412647247314         32            0.940968            1.000000   \n",
       "\n",
       "                                           quene_peaks  \\\n",
       "420  [[40.029239654541016, 62.0], [41.0396919250488...   \n",
       "419  [[40.029239654541016, 62.0], [41.0396919250488...   \n",
       "6    [[40.029239654541016, 62.0], [41.0396919250488...   \n",
       "\n",
       "                                    quene_pmz_denoised   quene_pmz  \n",
       "420  [[41.03969192504883, 92.0], [51.02379989624023...  161.107275  \n",
       "419  [[41.03969192504883, 92.0], [51.02379989624023...  161.107275  \n",
       "6    [[41.03969192504883, 92.0], [51.02379989624023...  161.107275  \n",
       "\n",
       "[3 rows x 27 columns]"
      ]
     },
     "metadata": {},
     "output_type": "display_data"
    }
   ],
   "source": [
    "display(results[6])"
   ]
  },
  {
   "cell_type": "code",
   "execution_count": 5,
   "metadata": {},
   "outputs": [
    {
     "name": "stdout",
     "output_type": "stream",
     "text": [
      "Entropy similarity of spectra with noise: 0.45.\n",
      "Entropy similarity of spectra with noise: 1.00.\n"
     ]
    }
   ],
   "source": [
    "import spectral_denoising as sd\n",
    "from spectral_denoising.noise import *\n",
    "from spectral_denoising.spectral_operations import *\n",
    "from spectral_denoising.chem_utils import *\n",
    "peak = np.array([[48.992496490478516 ,154.0],\n",
    "                [63.006099700927734, 265.0],\n",
    "                [79.02062225341797, 521.0]], dtype = np.float32)\n",
    "noise = generate_noise(pmz, lamda=10, n = 50)\n",
    "smiles = 'O=c1nc[nH]c2nc[nH]c12'\n",
    "adduct = '[M+Na]+'\n",
    "pmz = calculate_precursormz(adduct,smiles)\n",
    "peak_with_noise = add_noise(peak, noise)\n",
    "peak_denoised = sd.spectral_denoising(peak_with_noise, smiles, adduct)\n",
    "print(f'Entropy similarity of spectra with noise: {sd.entropy_similairty(peak_with_noise,peak, pmz ):.2f}.')\n",
    "print(f'Entropy similarity of spectra with noise: {sd.entropy_similairty(peak_denoised,peak, pmz ):.2f}.')"
   ]
  }
 ],
 "metadata": {
  "kernelspec": {
   "display_name": "test_env",
   "language": "python",
   "name": "python3"
  },
  "language_info": {
   "codemirror_mode": {
    "name": "ipython",
    "version": 3
   },
   "file_extension": ".py",
   "mimetype": "text/x-python",
   "name": "python",
   "nbconvert_exporter": "python",
   "pygments_lexer": "ipython3",
   "version": "3.12.5"
  }
 },
 "nbformat": 4,
 "nbformat_minor": 2
}
