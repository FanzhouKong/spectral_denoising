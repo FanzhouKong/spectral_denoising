{
 "cells": [
  {
   "cell_type": "code",
   "execution_count": 1,
   "metadata": {
    "collapsed": true,
    "pycharm": {
     "name": "#%%\n"
    }
   },
   "outputs": [],
   "source": [
    "import os\n",
    "\n",
    "import numpy as np\n",
    "%load_ext autoreload\n",
    "%autoreload 2\n",
    "from toolsets.file_io import read_df, save_df\n",
    "import pandas as pd\n",
    "import numpy as py\n",
    "import os\n",
    "import toolsets.spectra_operations as so\n",
    "from tqdm import tqdm\n",
    "import seaborn as sns\n",
    "import matplotlib.pyplot as plt"
   ]
  },
  {
   "cell_type": "code",
   "execution_count": 2,
   "outputs": [],
   "source": [
    "def calculate_overall_count(arrays):\n",
    "    \"\"\"\n",
    "    Function to calculate the overall count of frequency counts across multiple arrays.\n",
    "    \n",
    "    Parameters:\n",
    "    - arrays: A list of lists, where each inner list is an array of numbers.\n",
    "    \n",
    "    Returns:\n",
    "    - A DataFrame with the overall frequency count information across all arrays.\n",
    "    \"\"\"\n",
    "\n",
    "    overall_frequency_counts = {}\n",
    "\n",
    "    # Iterate through each array\n",
    "    for arr in tqdm(arrays):\n",
    "        # Calculate frequency of each number in the current array\n",
    "        frequency = {}\n",
    "        for num in arr:\n",
    "            frequency[num] = frequency.get(num, 0) + 1\n",
    "\n",
    "        # Calculate how many times each frequency occurs in the current array\n",
    "        frequency_counts = {}\n",
    "        for freq in frequency.values():\n",
    "            frequency_counts[freq] = frequency_counts.get(freq, 0) + 1\n",
    "\n",
    "        # Update overall frequency counts\n",
    "        for freq, count in frequency_counts.items():\n",
    "            overall_frequency_counts[freq] = overall_frequency_counts.get(freq, 0) + count\n",
    "\n",
    "    # Create DataFrame from the overall frequency counts\n",
    "    df_overall = pd.DataFrame(list(overall_frequency_counts.items()), columns=['Frequency', 'Count'])\n",
    "\n",
    "    return df_overall"
   ],
   "metadata": {
    "collapsed": false,
    "pycharm": {
     "name": "#%%\n"
    }
   }
  },
  {
   "cell_type": "code",
   "execution_count": 4,
   "outputs": [
    {
     "name": "stdout",
     "output_type": "stream",
     "text": [
      "done read in df\n"
     ]
    }
   ],
   "source": [
    "library_dir = '/Users/fanzhoukong/Documents/GitHub/Libgen_data/curated_library/csv'\n",
    "nist_pos_sampled = read_df(os.path.join(library_dir, 'pos_orbi_nist_sampled.csv'))"
   ],
   "metadata": {
    "collapsed": false,
    "pycharm": {
     "name": "#%%\n"
    }
   }
  },
  {
   "cell_type": "code",
   "execution_count": 5,
   "outputs": [],
   "source": [
    "nist_pos_sampled.dropna(subset='SMILES',inplace=True)"
   ],
   "metadata": {
    "collapsed": false,
    "pycharm": {
     "name": "#%%\n"
    }
   }
  },
  {
   "cell_type": "code",
   "execution_count": 6,
   "outputs": [],
   "source": [
    "import  toolsets.denoising_related_functions as drf"
   ],
   "metadata": {
    "collapsed": false,
    "pycharm": {
     "name": "#%%\n"
    }
   }
  },
  {
   "cell_type": "code",
   "execution_count": 7,
   "outputs": [
    {
     "name": "stderr",
     "output_type": "stream",
     "text": [
      "100%|██████████| 9749/9749 [02:45<00:00, 58.95it/s] "
     ]
    },
    {
     "name": "stdout",
     "output_type": "stream",
     "text": [
      "0.9934796928912153\n"
     ]
    },
    {
     "name": "stderr",
     "output_type": "stream",
     "text": [
      "\n"
     ]
    }
   ],
   "source": [
    "entropy_all = []\n",
    "for index, row in tqdm(nist_pos_sampled.iterrows(), total = len(nist_pos_sampled)):\n",
    "    msms_d = drf.spectral_denoising(row['spectrum'],  row['SMILES'],row['Precursor_type'], max_allowed_deviation=0.02)\n",
    "    entropy_d = so.entropy_identity(row['spectrum'], msms_d, pmz = row['PrecursorMZ'])\n",
    "    entropy_all.append(entropy_d)\n",
    "print(np.nanmean(entropy_all))"
   ],
   "metadata": {
    "collapsed": false,
    "pycharm": {
     "name": "#%%\n"
    }
   }
  },
  {
   "cell_type": "code",
   "execution_count": null,
   "outputs": [],
   "source": [
    "entropy_cleaned = [x for x in entropy_all if np.isnan(x) == False]"
   ],
   "metadata": {
    "collapsed": false,
    "pycharm": {
     "name": "#%%\n"
    }
   }
  },
  {
   "cell_type": "code",
   "execution_count": 30,
   "outputs": [
    {
     "data": {
      "text/plain": "'/Users/fanzhoukong/Documents/GitHub/Libgen_data/curated_library/csv'"
     },
     "execution_count": 30,
     "metadata": {},
     "output_type": "execute_result"
    }
   ],
   "source": [
    "library_dir"
   ],
   "metadata": {
    "collapsed": false,
    "pycharm": {
     "name": "#%%\n"
    }
   }
  },
  {
   "cell_type": "code",
   "execution_count": 48,
   "outputs": [
    {
     "data": {
      "text/plain": "<Figure size 600x400 with 1 Axes>",
      "image/png": "[encoded data removed]"
     },
     "metadata": {},
     "output_type": "display_data"
    }
   ],
   "source": [
    "fig = plt.figure(figsize = (6, 4))#43\n",
    "ax = fig.add_subplot()\n",
    "#\n",
    "\n",
    "ax= sns.histplot(entropy_cleaned, bins=1000)\n",
    "# plt.xticks(df_statistc['Frequency'])\n",
    "# ax.get_lines()[0].remove()\n",
    "# plt.xlim(0, 100)\n",
    "ax.set_xlabel('Entropy similarity',size = 12)\n",
    "ax.set_ylabel('Spectra count', size = 12)\n",
    "ax.set_xlim(0.9,1)\n",
    "\n",
    "# plt.setp(ax.patches, linewidth=1)\n",
    "# ax.set_frame_on(True)\n",
    "# ax.set_ylim(0,1)\n",
    "# plt.axvline(4, color = 'orange', linestyle = '--')\n",
    "# sns.lineplot(x = range(1,14), y = ns_means)\n",
    "# sns.histplot(library_bad_quality['normalized_entropy'], label = 'low_quality')\n",
    "# plt.vlines(x = 0.8, ymin=0, ymax=250, color = 'red')\n",
    "ax.grid(False)\n",
    "ax.set_facecolor(\"white\")\n",
    "ax.spines['left'].set_color('#313131')\n",
    "ax.spines['bottom'].set_color('#313131')\n",
    "# sns.despine(bottom = True, left = True)\n",
    "plt.savefig(os.path.join(library_dir, 'spectral_denoising_validation.png'))"
   ],
   "metadata": {
    "collapsed": false,
    "pycharm": {
     "name": "#%%\n"
    }
   }
  },
  {
   "cell_type": "code",
   "execution_count": 49,
   "outputs": [
    {
     "name": "stderr",
     "output_type": "stream",
     "text": [
      "100%|██████████| 1283801/1283801 [01:08<00:00, 18633.74it/s]\n"
     ]
    }
   ],
   "source": [
    "nested_array = []\n",
    "for index, row in tqdm(nist_pos.iterrows(), total = len(nist_pos)):\n",
    "    mass, intensity = so.break_spectra(so.truncate_spectrum(row['spectrum'], row['PrecursorMZ']-1.6))\n",
    "    if isinstance(intensity, float) is False:\n",
    "        nested_array.append(intensity)"
   ],
   "metadata": {
    "collapsed": false,
    "pycharm": {
     "name": "#%%\n"
    }
   }
  },
  {
   "cell_type": "code",
   "execution_count": 50,
   "outputs": [
    {
     "name": "stderr",
     "output_type": "stream",
     "text": [
      "100%|██████████| 1283801/1283801 [00:11<00:00, 113042.59it/s]\n"
     ]
    }
   ],
   "source": [
    "df_statistc = calculate_overall_count(nested_array)"
   ],
   "metadata": {
    "collapsed": false,
    "pycharm": {
     "name": "#%%\n"
    }
   }
  },
  {
   "cell_type": "code",
   "execution_count": 70,
   "outputs": [],
   "source": [
    "import textwrap\n",
    "def wrap_labels(ax, width, break_long_words=False):\n",
    "    labels = []\n",
    "    for label in ax.get_ylabel():\n",
    "        text = label\n",
    "        labels.append(textwrap.fill(text, width=width,\n",
    "                                    break_long_words=break_long_words))\n",
    "    ax.set_xticklabels(labels, rotation=0)"
   ],
   "metadata": {
    "collapsed": false,
    "pycharm": {
     "name": "#%%\n"
    }
   }
  },
  {
   "cell_type": "code",
   "execution_count": 76,
   "outputs": [
    {
     "data": {
      "text/plain": "<Figure size 600x400 with 1 Axes>",
      "image/png": "[encoded data removed]"
     },
     "metadata": {},
     "output_type": "display_data"
    }
   ],
   "source": [
    "fig = plt.figure(figsize = (6, 4))#43\n",
    "# ax = fig.add_subplot()\n",
    "#\n",
    "\n",
    "ax= sns.lineplot(data=df_statistc, x=\"Frequency\", y = 'Count')\n",
    "# plt.xticks(df_statistc['Frequency'])\n",
    "# ax.get_lines()[0].remove()\n",
    "# plt.xlim(0, 100)\n",
    "ax.set_ylabel('Count (1e7)',size = 12)\n",
    "ax.set_xlabel('Number of ions per spectrum with identical intensity', size = 12)\n",
    "ax.set_xlim(0, 10)\n",
    "plt.axvline(4, color = 'orange', linestyle = '--')\n",
    "# # sns.lineplot(x = range(1,14), y = ns_means)\n",
    "# # sns.histplot(library_bad_quality['normalized_entropy'], label = 'low_quality')\n",
    "# # plt.vlines(x = 0.8, ymin=0, ymax=250, color = 'red')\n",
    "# plt.grid(False)\n",
    "ax.set_facecolor(\"white\")\n",
    "# wrap_labels(ax, 6)\n",
    "ax.spines['left'].set_color('#313131')\n",
    "ax.spines['bottom'].set_color('#313131')\n",
    "plt.savefig(os.path.join(library_dir, 'frequency_counts.png'))\n",
    "# plt.legend(facecolor='white', loc = 'upper left')\n",
    "# ax.legend(facecolor='white', )"
   ],
   "metadata": {
    "collapsed": false,
    "pycharm": {
     "name": "#%%\n"
    }
   }
  }
 ],
 "metadata": {
  "kernelspec": {
   "name": "alphapept_env",
   "language": "python",
   "display_name": "alphapept_env"
  },
  "language_info": {
   "codemirror_mode": {
    "name": "ipython",
    "version": 2
   },
   "file_extension": ".py",
   "mimetype": "text/x-python",
   "name": "python",
   "nbconvert_exporter": "python",
   "pygments_lexer": "ipython2",
   "version": "2.7.6"
  }
 },
 "nbformat": 4,
 "nbformat_minor": 0
}