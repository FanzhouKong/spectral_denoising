{
 "cells": [
  {
   "cell_type": "code",
   "execution_count": 1,
   "metadata": {
    "collapsed": true,
    "pycharm": {
     "name": "#%%\n"
    }
   },
   "outputs": [],
   "source": [
    "import os.path\n",
    "%load_ext autoreload\n",
    "%autoreload 2\n",
    "import numpy as np\n",
    "import pandas as pd\n",
    "from tqdm import tqdm\n",
    "import os\n",
    "from ast import literal_eval\n",
    "import matplotlib.pyplot as plt\n",
    "import seaborn as sns\n",
    "import toolsets.raw_data_scaffold as rds\n",
    "import toolsets.T_rex as trx\n",
    "import toolsets.spectra_operations as so\n",
    "import toolsets.spectra_plotter as plotter\n",
    "import toolsets.denoising_related_functions as drf\n",
    "import re\n",
    "import chemparse\n",
    "from toolsets.file_io import read_df, save_df\n",
    "from pubchempy import Compound, get_compounds\n",
    "from toolsets.search import quick_search_values, quick_search_sorted, string_search, search_feature\n",
    "import itertools\n",
    "import toolsets.chem_utils as cu\n",
    "from rdkit import Chem\n",
    "import matplotlib.pyplot as plt\n",
    "import seaborn as sns\n",
    "from molmass import Formula\n",
    "from rdkit.Chem.rdMolDescriptors import CalcMolFormula\n",
    "master_dir = '/Users/fanzhoukong/Documents/GitHub/Libgen_data/denoising_data'\n",
    "figure_dir = '/Users/fanzhoukong/Documents/GitHub/Libgen_data/denoising_data/figures'"
   ]
  },
  {
   "cell_type": "markdown",
   "source": [
    "# fetching data"
   ],
   "metadata": {
    "collapsed": false,
    "pycharm": {
     "name": "#%% md\n"
    }
   }
  },
  {
   "cell_type": "code",
   "execution_count": 2,
   "outputs": [],
   "source": [
    "import requests"
   ],
   "metadata": {
    "collapsed": false,
    "pycharm": {
     "name": "#%%\n"
    }
   }
  },
  {
   "cell_type": "markdown",
   "source": [
    "# HILIC pos"
   ],
   "metadata": {
    "collapsed": false,
    "pycharm": {
     "name": "#%% md\n"
    }
   }
  },
  {
   "cell_type": "code",
   "execution_count": 3,
   "outputs": [],
   "source": [
    "master_ids = ['b2JMB7R', 'b7JWOBC', 'b3M6SD1', 'bIZGW2U']#hilic neg, hilic pos,\n",
    "output_name = ['hilic_neg', 'hilic_pos', 'c18_neg', 'c18_pos']"
   ],
   "metadata": {
    "collapsed": false,
    "pycharm": {
     "name": "#%%\n"
    }
   }
  },
  {
   "cell_type": "code",
   "execution_count": 4,
   "outputs": [],
   "source": [
    "data = pd.read_csv(os.path.join(master_dir, output_name[1]+'.csv'))"
   ],
   "metadata": {
    "collapsed": false,
    "pycharm": {
     "name": "#%%\n"
    }
   }
  },
  {
   "cell_type": "code",
   "execution_count": 4,
   "outputs": [],
   "source": [
    "def is_denoisable(msms, ref_msms, n = 3):\n",
    "    msms = so.sort_spectrum(msms)\n",
    "    mass, intensity = so.break_spectra(msms)\n",
    "    mass_ref, intensity_ref = so.break_spectra(ref_msms)\n",
    "    if len(mass_ref)<n or len(mass)<n:\n",
    "        return False\n",
    "    order = np.argsort(intensity_ref)\n",
    "    intensity_ref = intensity_ref[order]\n",
    "    mass_ref = mass_ref[order]\n",
    "    ref_key_mass = mass_ref[-n:]\n",
    "    ref_key_intensity = intensity_ref[-n:]\n",
    "    ref_key_mass = np.flip(ref_key_mass)\n",
    "    ref_key_intensity = np.flip(ref_key_intensity)\n",
    "    key_mass = np.zeros(n)\n",
    "    key_intensity = np.zeros(n)\n",
    "    ratios = np.zeros(n-1)\n",
    "    ref_ratios = np.zeros(n-1)\n",
    "    for i in range(0, n):\n",
    "        idx_left, idx_right = mass.searchsorted([ref_key_mass[i]-0.01, ref_key_mass[i]+0.01+1E-9])\n",
    "        if idx_right-idx_left==0:\n",
    "            return( False ) #one of the key mass is not found\n",
    "        anchor = np.argmax(intensity[idx_left:idx_right])\n",
    "        key_mass[i]=mass[idx_left:idx_right][anchor]\n",
    "        key_intensity[i]=intensity[idx_left:idx_right][anchor]\n",
    "    for i in range(0, n-1):\n",
    "        ratios[i]=key_intensity[i]/key_intensity[i+1]\n",
    "        ref_ratios[i]=ref_key_intensity[i]/ref_key_intensity[i+1]\n",
    "    cross_ratio = ref_ratios/ratios\n",
    "    if np.max(np.diff(key_intensity))<0:\n",
    "        return True\n",
    "    else:\n",
    "        return False\n",
    "    # if np.max(cross_ratio)<=1*1.5 and np.min(cross_ratio)>=1/1.5:\n",
    "    #     return True\n",
    "    # else:\n",
    "    #     return False\n",
    "\n"
   ],
   "metadata": {
    "collapsed": false,
    "pycharm": {
     "name": "#%%\n"
    }
   }
  },
  {
   "cell_type": "code",
   "execution_count": 5,
   "outputs": [],
   "source": [
    "def clean_data(data_in, peak_convert = True):\n",
    "    data = data_in.copy()\n",
    "    data = data[~data['library_peaks'].isna()]\n",
    "    if peak_convert ==True:\n",
    "        peak= []\n",
    "        library_peaks = []\n",
    "        for index, row in data.iterrows():\n",
    "\n",
    "            peak.append(so.sort_spectrum(so.convert_nist_to_string(literal_eval(row['peak']))))\n",
    "            library_peaks.append(so.sort_spectrum(so.convert_nist_to_string(literal_eval(row['library_peaks']))))\n",
    "        data['peak']=peak\n",
    "        data['library_peaks']=library_peaks\n",
    "    print(len(data))\n",
    "    check_mark = []\n",
    "    for index, row in tqdm(data.iterrows(), total = len(data)):\n",
    "        check_mark.append(is_denoisable(row['peak'], row['library_peaks'], n = 2))\n",
    "    data['check_mark']=check_mark\n",
    "    calculated_pmz = np.zeros(len(data))\n",
    "    for index, row in tqdm(data.iterrows(), total = len(data)):\n",
    "        adduct = row['adduct']\n",
    "        if adduct[-1]!='+':\n",
    "            adduct = adduct+'+'\n",
    "        try:\n",
    "            calculated_pmz[index]=cu.calculate_precursormz(row['smiles'], adduct, if_smiles=True)\n",
    "        except:\n",
    "            calculated_pmz[index]=0\n",
    "    data['calculated_pmz']=calculated_pmz\n",
    "    data['pmz_offset']=abs(data['precursor_mz']-data['calculated_pmz'])\n",
    "    data = data[data['pmz_offset']<=0.01]\n",
    "    data=data[data['check_mark']==True]\n",
    "    return(data)"
   ],
   "metadata": {
    "collapsed": false,
    "pycharm": {
     "name": "#%%\n"
    }
   }
  },
  {
   "cell_type": "code",
   "execution_count": 17,
   "outputs": [],
   "source": [
    "\n",
    "    # data['entropy_raw']=entropy_raw\n",
    "    # data['entropy_spec']=entropy_spec\n",
    "    # data['entropy_dnl']=entropy_dnl\n",
    "    # data['entropy_thres']=entropy_thr_1"
   ],
   "metadata": {
    "collapsed": false,
    "pycharm": {
     "name": "#%%\n"
    }
   }
  },
  {
   "cell_type": "markdown",
   "source": [],
   "metadata": {
    "collapsed": false,
    "pycharm": {
     "name": "#%% md\n"
    }
   }
  },
  {
   "cell_type": "code",
   "execution_count": 212,
   "outputs": [],
   "source": [
    "# data.to_csv(os.path.join(master_dir,'hilic_pos_denoisable.csv'), index = False)"
   ],
   "metadata": {
    "collapsed": false,
    "pycharm": {
     "name": "#%%\n"
    }
   }
  },
  {
   "cell_type": "code",
   "execution_count": 16,
   "outputs": [],
   "source": [
    "from toolsets.search import string_search\n",
    "def denoising_search(row, mega_mona):\n",
    "    pmz_candidate = quick_search_sorted(mega_mona, 'PrecursorMZ', row['precursor_mz']-0.01, row['precursor_mz']+0.01)\n",
    "    charge = [cu.break_adduct(x)[2] for x in pmz_candidate['Precursor_type']]\n",
    "    processed_formulas = [drf.prep_formula(x['SMILES'], x['Precursor_type']) for i, x in pmz_candidate.iterrows()]\n",
    "    pmz_candidate['processed_formulas']=processed_formulas\n",
    "    pmz_candidate['charge']=charge\n",
    "    entropy_denoised = []\n",
    "    entropy_raw = []\n",
    "    msms_denoised_all = []\n",
    "    msms_raw_all = []\n",
    "    pmz_candidate_curated = pd.DataFrame()\n",
    "    for f in pmz_candidate['processed_formulas'].unique():\n",
    "\n",
    "        if f ==f:\n",
    "            pmz_f_temp = string_search(pmz_candidate, 'processed_formulas', f)\n",
    "            element_dict, element_count, element_mass, all_possible_mass, all_possible_candidate_formula = drf.get_all_subsets(f)\n",
    "            msms_denoised = drf.denoising_with_subset(row['peak'], row['precursor_mz'], element_dict, all_possible_mass, all_possible_candidate_formula)\n",
    "            msms_denoised_temp = [msms_denoised]*len(pmz_f_temp)\n",
    "            entropy_raw_temp = [so.entropy_identity(row['peak'], m['spectrum'], row['precursor_mz']) for n,m in pmz_f_temp.iterrows()]\n",
    "            entropy_denoised_temp = [so.entropy_identity(msms_denoised, m['spectrum'], row['precursor_mz']) for n,m in pmz_f_temp.iterrows()]\n",
    "            msms_raw = [row['peak']]*len(pmz_f_temp)\n",
    "\n",
    "        else:\n",
    "            pmz_f_temp = pmz_candidate[pmz_candidate['processed_formulas'].isna()]\n",
    "            entropy_raw_temp = [so.entropy_identity(row['peak'], m['spectrum'], row['precursor_mz']) for n,m in pmz_f_temp.iterrows()]\n",
    "            msms_denoised_temp = [row['peak']]*len(pmz_f_temp)\n",
    "            msms_raw = [row['peak']]*len(pmz_f_temp)\n",
    "            entropy_denoised_temp = entropy_raw_temp.copy()\n",
    "        entropy_raw.extend(entropy_raw_temp)\n",
    "        msms_denoised_all.extend(msms_denoised_temp)\n",
    "        entropy_denoised.extend(entropy_denoised_temp)\n",
    "        msms_raw_all.extend(msms_raw)\n",
    "        pmz_candidate_curated = pd.concat([pmz_candidate_curated, pmz_f_temp], ignore_index=True)\n",
    "    pmz_candidate_curated['msms_denoised']=msms_denoised_all\n",
    "    pmz_candidate_curated['msms_raw']=msms_raw_all\n",
    "    pmz_candidate_curated['entropy_denoised_raw']=entropy_raw\n",
    "    pmz_candidate_curated['entropy_denoised_denoised']=entropy_denoised\n",
    "    return(pmz_candidate_curated)"
   ],
   "metadata": {
    "collapsed": false,
    "pycharm": {
     "name": "#%%\n"
    }
   }
  },
  {
   "cell_type": "code",
   "execution_count": 7,
   "outputs": [],
   "source": [],
   "metadata": {
    "collapsed": false,
    "pycharm": {
     "name": "#%%\n"
    }
   }
  },
  {
   "cell_type": "code",
   "execution_count": 3,
   "outputs": [],
   "source": [
    "from toolsets.file_io import read_df, save_df"
   ],
   "metadata": {
    "collapsed": false,
    "pycharm": {
     "name": "#%%\n"
    }
   }
  },
  {
   "cell_type": "code",
   "execution_count": 2,
   "outputs": [
    {
     "name": "stdout",
     "output_type": "stream",
     "text": [
      "done read in df\n"
     ]
    }
   ],
   "source": [
    "result_df = read_df('/Users/fanzhoukong/Documents/GitHub/Libgen_data/denoising_data/masswiki_searched_with_recal_bd.csv')"
   ],
   "metadata": {
    "collapsed": false,
    "pycharm": {
     "name": "#%%\n"
    }
   }
  },
  {
   "cell_type": "code",
   "execution_count": 66,
   "outputs": [
    {
     "name": "stderr",
     "output_type": "stream",
     "text": [
      "100%|██████████| 1247/1247 [00:01<00:00, 634.57it/s]\n"
     ]
    }
   ],
   "source": [
    "results_top_hit_raw = pd.DataFrame()\n",
    "results_top_hit_denoised =pd.DataFrame()\n",
    "for i in tqdm(result_df['label'].unique()):\n",
    "    data_temp = string_search(result_df, 'label', i)\n",
    "    data_temp.sort_values(by = 'entropy_denoised_raw', inplace = True, ascending=False)\n",
    "    results_top_hit_raw = pd.concat([results_top_hit_raw, data_temp.iloc[0:1]], ignore_index=True)\n",
    "    data_temp.sort_values(by = 'entropy_denoised_denoised', inplace = True, ascending=False)\n",
    "    results_top_hit_denoised = pd.concat([results_top_hit_denoised, data_temp.iloc[0:1]], ignore_index=True)"
   ],
   "metadata": {
    "collapsed": false,
    "pycharm": {
     "name": "#%%\n"
    }
   }
  },
  {
   "cell_type": "code",
   "execution_count": 16,
   "outputs": [],
   "source": [
    "results_temp = results_top_hit_denoised.sort_values(by = 'entropy_denoised_denoised', ascending=True)\n",
    "results_temp.reset_index(inplace=True, drop = True)"
   ],
   "metadata": {
    "collapsed": false,
    "pycharm": {
     "name": "#%%\n"
    }
   }
  },
  {
   "cell_type": "code",
   "execution_count": 21,
   "outputs": [],
   "source": [],
   "metadata": {
    "collapsed": false,
    "pycharm": {
     "name": "#%%\n"
    }
   }
  },
  {
   "cell_type": "code",
   "execution_count": 31,
   "outputs": [
    {
     "name": "stderr",
     "output_type": "stream",
     "text": [
      "100%|██████████| 1247/1247 [00:01<00:00, 666.20it/s]\n"
     ]
    }
   ],
   "source": [],
   "metadata": {
    "collapsed": false,
    "pycharm": {
     "name": "#%%\n"
    }
   }
  },
  {
   "cell_type": "code",
   "execution_count": 39,
   "outputs": [],
   "source": [
    "def calculate_fdr_given_threshold(result_df, cutoff):\n",
    "    fdr_raws = []\n",
    "    fdr_denoise = []\n",
    "    for l in result_df['label'].unique():\n",
    "        cur_com = string_search(result_df, 'label', l)\n",
    "        raw_p = cur_com[cur_com['entropy_denoised_raw']>=cutoff]\n",
    "        raw_p.sort_values(by = 'entropy_denoised_raw', ascending=False, inplace = True)\n",
    "        raw_p = raw_p.iloc[0:3]\n",
    "        raw_fp = raw_p[raw_p['tag']==False]\n",
    "        d_p = cur_com[cur_com['entropy_denoised_denoised']>=cutoff]\n",
    "        d_p.sort_values(by = 'entropy_denoised_denoised', ascending=False, inplace = True)\n",
    "        d_p=d_p.iloc[0:3]\n",
    "        d_fp = d_p[d_p['tag']==False]\n",
    "        if len(d_p)>0 and len(raw_p)>0:\n",
    "            fdr_raws.append(len(raw_fp)/len(raw_p))\n",
    "\n",
    "            fdr_denoise.append(len(d_fp)/len(d_p))\n",
    "        else:\n",
    "            fdr_raws.append(np.NAN)\n",
    "            fdr_denoise.append(np.NAN)\n",
    "        # raw_n = cur_com[cur_com['entropy_denoised_raw']<cutoff]\n",
    "    # return fdr_raws, fdr_denoise\n",
    "    return(np.nanmean(fdr_raws),np.nanmean(fdr_denoise) )"
   ],
   "metadata": {
    "collapsed": false,
    "pycharm": {
     "name": "#%%\n"
    }
   }
  },
  {
   "cell_type": "code",
   "execution_count": 4,
   "outputs": [
    {
     "name": "stdout",
     "output_type": "stream",
     "text": [
      "done read in df\n"
     ]
    }
   ],
   "source": [
    "result_df = read_df(os.path.join(master_dir, 'masswiki_searched_with_recal_bd.csv'))"
   ],
   "metadata": {
    "collapsed": false,
    "pycharm": {
     "name": "#%%\n"
    }
   }
  },
  {
   "cell_type": "markdown",
   "source": [
    "# FDR, all hits"
   ],
   "metadata": {
    "collapsed": false,
    "pycharm": {
     "name": "#%% md\n"
    }
   }
  },
  {
   "cell_type": "code",
   "execution_count": 18,
   "outputs": [],
   "source": [
    "scope = np.arange(1,99)/100"
   ],
   "metadata": {
    "collapsed": false,
    "pycharm": {
     "name": "#%%\n"
    }
   }
  },
  {
   "cell_type": "code",
   "execution_count": 40,
   "outputs": [
    {
     "name": "stderr",
     "output_type": "stream",
     "text": [
      "100%|██████████| 98/98 [01:59<00:00,  1.22s/it]\n"
     ]
    }
   ],
   "source": [
    "fdr_r_all = []\n",
    "fdr_d_all = []\n",
    "for s in tqdm(scope):\n",
    "    fdr_r, fdr_d = calculate_fdr_given_threshold(result_df, s)\n",
    "    fdr_r_all.append(fdr_r)\n",
    "    fdr_d_all.append(fdr_d)"
   ],
   "metadata": {
    "collapsed": false,
    "pycharm": {
     "name": "#%%\n"
    }
   }
  },
  {
   "cell_type": "code",
   "execution_count": 48,
   "outputs": [
    {
     "data": {
      "text/plain": "<Figure size 600x500 with 1 Axes>",
      "image/png": "[encoded data removed]"
     },
     "metadata": {},
     "output_type": "display_data"
    }
   ],
   "source": [
    "start = 0\n",
    "end = 93\n",
    "fig = plt.figure(figsize = (6, 5))#43\n",
    "ax = fig.add_subplot()\n",
    "sns.lineplot(x=scope[start:end], y = fdr_r_all[start:end], label = 'Entropy search')\n",
    "sns.lineplot(x=scope[start:end], y = fdr_d_all[start:end], label = 'Denoising search')\n",
    "# sns.lineplot(x=scope, y = fdrs_l2, label = 'denoised search l2')\n",
    "plt.ylabel('FDR', size = 13)\n",
    "plt.xlabel('Entropy similarity', size = 13)\n",
    "# plt.xlim(0,1)\n",
    "# plt.ylim(0.,0.7)\n",
    "\n",
    "# sns.lineplot(x=scope, y = fdrs_l2, label = 'l2')\n",
    "# plt.grid(True)\n",
    "plt.tight_layout()\n",
    "# ax.set_facecolor(\"white\")\n",
    "plt.legend()\n",
    "plt.savefig('/Users/fanzhoukong/Documents/GitHub/Libgen_data/denoising_data/figures/mass_wiki_fdr_top_3_hits.png')"
   ],
   "metadata": {
    "collapsed": false,
    "pycharm": {
     "name": "#%%\n"
    }
   }
  },
  {
   "cell_type": "code",
   "execution_count": 26,
   "outputs": [
    {
     "name": "stderr",
     "output_type": "stream",
     "text": [
      "100%|██████████| 1247/1247 [00:02<00:00, 609.60it/s]\n"
     ]
    }
   ],
   "source": [
    "results_top_hit_raw = pd.DataFrame()\n",
    "results_top_hit_denoised =pd.DataFrame()\n",
    "\n",
    "results_top_hit_l2 = pd.DataFrame()\n",
    "for i in tqdm(result_df['label'].unique()):\n",
    "    data_temp = string_search(result_df, 'label', i)\n",
    "    data_temp.sort_values(by = 'entropy_denoised_raw', inplace = True, ascending=False)\n",
    "    results_top_hit_raw = pd.concat([results_top_hit_raw, data_temp.iloc[0:3]], ignore_index=True)\n",
    "    data_temp.sort_values(by = 'entropy_denoised_denoised', inplace = True, ascending=False)\n",
    "    results_top_hit_denoised = pd.concat([results_top_hit_denoised, data_temp.iloc[0:3]], ignore_index=True)"
   ],
   "metadata": {
    "collapsed": false,
    "pycharm": {
     "name": "#%%\n"
    }
   }
  },
  {
   "cell_type": "code",
   "execution_count": 48,
   "outputs": [
    {
     "name": "stderr",
     "output_type": "stream",
     "text": [
      "100%|██████████| 98/98 [02:09<00:00,  1.32s/it]\n"
     ]
    }
   ],
   "source": [
    "scope = np.arange(1,99)/100\n",
    "fdr_r_all = []\n",
    "fdr_d_all = []\n",
    "for i in tqdm(scope):\n",
    "    fdr_raw, fdr_raw_std, fdr_denoise, fdr_denoise_std = calculate_fdr_given_threshold(result_df, i)\n",
    "    fdr_r_all.append(fdr_raw)\n",
    "    fdr_d_all.append(fdr_denoise)"
   ],
   "metadata": {
    "collapsed": false,
    "pycharm": {
     "name": "#%%\n"
    }
   }
  },
  {
   "cell_type": "code",
   "execution_count": 33,
   "outputs": [
    {
     "data": {
      "text/plain": "<matplotlib.legend.Legend at 0x3ca2659a0>"
     },
     "execution_count": 33,
     "metadata": {},
     "output_type": "execute_result"
    },
    {
     "data": {
      "text/plain": "<Figure size 600x500 with 1 Axes>",
      "image/png": "[encoded data removed]"
     },
     "metadata": {},
     "output_type": "display_data"
    }
   ],
   "source": [
    "scope = np.arange(0,96)/100\n",
    "fdrs_raw = []\n",
    "fdrs_l1 = []\n",
    "# fdrs_l2 = []\n",
    "for i in scope:\n",
    "    data_temp = results_top_hit_raw[results_top_hit_raw['entropy_denoised_raw']>i]\n",
    "    fdrs_raw.append(1-(np.sum(results_top_hit_raw[results_top_hit_raw['entropy_denoised_raw']>i]['tag'])/len(results_top_hit_raw[results_top_hit_raw['entropy_denoised_raw']>i])))\n",
    "    fdrs_l1.append(1-np.sum(results_top_hit_denoised[results_top_hit_denoised['entropy_denoised_denoised']>i]['tag'])/len(results_top_hit_denoised[results_top_hit_denoised['entropy_denoised_denoised']>i]))\n",
    "    # fdrs_l2.append(1-np.sum(results_top_hit_l2[results_top_hit_l2['entropy_l2']>i]['tag'])/len(results_top_hit_l2[results_top_hit_l2['entropy_l2']>i]))\n",
    "fig = plt.figure(figsize = (6, 5))#43\n",
    "ax = fig.add_subplot()\n",
    "sns.lineplot(x=scope, y = fdrs_raw, label = 'Entropy search')\n",
    "sns.lineplot(x=scope, y = fdrs_l1, label = 'Denoising search')\n",
    "# sns.lineplot(x=scope, y = fdrs_l2, label = 'denoised search l2')\n",
    "plt.ylabel('FDR', size = 13)\n",
    "plt.xlabel('Entropy similarity', size = 13)\n",
    "# plt.xlim(0,1)\n",
    "# plt.ylim(0.05,0.35)\n",
    "# plt.savefig('/Users/fanzhoukong/Documents/GitHub/Libgen_data/denoising_data/figures/FDR.png')\n",
    "# sns.lineplot(x=scope, y = fdrs_l2, label = 'l2')\n",
    "# plt.grid(True)\n",
    "plt.tight_layout()\n",
    "# ax.set_facecolor(\"white\")\n",
    "plt.legend()\n",
    "# plt.savefig(os.path.join(figure_dir, 'FDR_mass_wiki_top_hit_only.png'))"
   ],
   "metadata": {
    "collapsed": false,
    "pycharm": {
     "name": "#%%\n"
    }
   }
  }
 ],
 "metadata": {
  "kernelspec": {
   "name": "alphapept_env",
   "language": "python",
   "display_name": "alphapept_env"
  },
  "language_info": {
   "codemirror_mode": {
    "name": "ipython",
    "version": 2
   },
   "file_extension": ".py",
   "mimetype": "text/x-python",
   "name": "python",
   "nbconvert_exporter": "python",
   "pygments_lexer": "ipython2",
   "version": "2.7.6"
  }
 },
 "nbformat": 4,
 "nbformat_minor": 0
}